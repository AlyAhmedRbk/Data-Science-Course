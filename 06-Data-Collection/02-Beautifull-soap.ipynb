{
 "cells": [
  {
   "cell_type": "code",
   "execution_count": null,
   "id": "09a41242-4945-45dd-b517-409f9fc466ee",
   "metadata": {},
   "outputs": [],
   "source": [
    "!pip install beautifulsoup4 lxml"
   ]
  },
  {
   "cell_type": "code",
   "execution_count": null,
   "id": "d80cc329-84fe-4da9-8225-4f8b3d3de0f9",
   "metadata": {},
   "outputs": [],
   "source": [
    "from bs4 import BeautifulSoup\n",
    "import requests"
   ]
  },
  {
   "cell_type": "code",
   "execution_count": null,
   "id": "a0fe06e4-51f6-4c1a-98fe-82627875b1d2",
   "metadata": {},
   "outputs": [],
   "source": [
    "with open('htmls/page1.html', 'r') as f:\n",
    "    content = f.read()\n",
    "\n",
    "soup = BeautifulSoup(content, 'html.parser')"
   ]
  },
  {
   "cell_type": "code",
   "execution_count": null,
   "id": "29775cce-9cdf-47b3-bc9f-60399bf59ef5",
   "metadata": {},
   "outputs": [],
   "source": [
    "soup.h1"
   ]
  },
  {
   "cell_type": "code",
   "execution_count": null,
   "id": "b679df25-6027-4aa1-8517-09be7176398a",
   "metadata": {},
   "outputs": [],
   "source": [
    "soup.h1.text"
   ]
  },
  {
   "cell_type": "code",
   "execution_count": null,
   "id": "7522f4e6-da90-48f7-b2fe-eb0bf564c67c",
   "metadata": {},
   "outputs": [],
   "source": [
    "h3s = soup.find_all('h3')"
   ]
  },
  {
   "cell_type": "code",
   "execution_count": null,
   "id": "ec416652-cc49-4c76-8005-7fae791394f7",
   "metadata": {},
   "outputs": [],
   "source": [
    "h3s"
   ]
  },
  {
   "cell_type": "code",
   "execution_count": null,
   "id": "431f64e7-55d7-4774-bf64-44676d0514ae",
   "metadata": {},
   "outputs": [],
   "source": [
    "for h3 in h3s:\n",
    "    print(h3.find('a')['title'])"
   ]
  },
  {
   "cell_type": "code",
   "execution_count": null,
   "id": "0eb109c6-1d91-402d-9a0c-b62d2c42eebf",
   "metadata": {},
   "outputs": [],
   "source": [
    "articles = soup.select('article.product_pod')"
   ]
  },
  {
   "cell_type": "code",
   "execution_count": null,
   "id": "8f5f161f-3729-4b88-9c3c-eaffe1e14854",
   "metadata": {},
   "outputs": [],
   "source": [
    "articles"
   ]
  },
  {
   "cell_type": "code",
   "execution_count": null,
   "id": "dca9a412-6bd3-4a83-9d80-f6f4653ccc19",
   "metadata": {},
   "outputs": [],
   "source": [
    "items = []\n",
    "\n",
    "for article in articles:\n",
    "    title = article.find('h3').find('a')['title']\n",
    "    price = article.select_one('p.price_color').text.split('£')[1]\n",
    "    star_rating = article.select_one('p.star-rating')\n",
    "    classes = star_rating['class'][1]\n",
    "    # print(f'Title : {title}')\n",
    "    # print(f'Price : {price}')\n",
    "    # print(classes)\n",
    "    items.append([title, price, classes])"
   ]
  },
  {
   "cell_type": "code",
   "execution_count": null,
   "id": "73274b8b-bc01-4fb0-a976-eff48f56973b",
   "metadata": {},
   "outputs": [],
   "source": [
    "items"
   ]
  },
  {
   "cell_type": "code",
   "execution_count": null,
   "id": "4bf4f5db-3f96-4d4c-b86b-bc7c3325a066",
   "metadata": {},
   "outputs": [],
   "source": [
    "import pandas as pd"
   ]
  },
  {
   "cell_type": "code",
   "execution_count": null,
   "id": "0eb098a2-5be9-4dcb-ba22-f7ee5bef6517",
   "metadata": {},
   "outputs": [],
   "source": [
    "df = pd.DataFrame(items, columns=['Books', 'Price', 'Ratings'])"
   ]
  },
  {
   "cell_type": "code",
   "execution_count": null,
   "id": "c55cdb85-21ca-440b-a3c5-a1834019dc3b",
   "metadata": {},
   "outputs": [],
   "source": [
    "df"
   ]
  },
  {
   "cell_type": "code",
   "execution_count": null,
   "id": "b5f069a5-1895-4ad7-b8de-1ea9c5c659ee",
   "metadata": {},
   "outputs": [],
   "source": [
    "df.to_csv('data.csv', index=False)"
   ]
  },
  {
   "cell_type": "code",
   "execution_count": null,
   "id": "41bbdc1e-84ca-4b3a-a1ff-1ab58875c47b",
   "metadata": {},
   "outputs": [],
   "source": [
    "print(df)"
   ]
  },
  {
   "cell_type": "code",
   "execution_count": null,
   "id": "6eee83b6",
   "metadata": {},
   "outputs": [],
   "source": []
  }
 ],
 "metadata": {
  "kernelspec": {
   "display_name": "Python 3 (ipykernel)",
   "language": "python",
   "name": "python3"
  },
  "language_info": {
   "codemirror_mode": {
    "name": "ipython",
    "version": 3
   },
   "file_extension": ".py",
   "mimetype": "text/x-python",
   "name": "python",
   "nbconvert_exporter": "python",
   "pygments_lexer": "ipython3",
   "version": "3.12.7"
  }
 },
 "nbformat": 4,
 "nbformat_minor": 5
}
