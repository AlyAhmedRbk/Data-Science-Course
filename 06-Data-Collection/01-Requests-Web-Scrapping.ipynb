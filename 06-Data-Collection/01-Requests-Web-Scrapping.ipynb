{
 "cells": [
  {
   "cell_type": "code",
   "execution_count": 1,
   "id": "ff0b4334-eea0-4150-8f27-43d0d397956c",
   "metadata": {},
   "outputs": [],
   "source": [
    "import requests"
   ]
  },
  {
   "cell_type": "code",
   "execution_count": 2,
   "id": "c3b469fb-dba0-490c-994b-98894dbd16ea",
   "metadata": {},
   "outputs": [],
   "source": [
    "data =  requests.get('https://books.toscrape.com/')"
   ]
  },
  {
   "cell_type": "code",
   "execution_count": 4,
   "id": "cfa1f1ef-3ce9-424e-b757-359ddb69c6b6",
   "metadata": {},
   "outputs": [],
   "source": [
    "with open(f\"html/page1.html\", 'w') as f:\n",
    "    f.write(data.text)"
   ]
  },
  {
   "cell_type": "code",
   "execution_count": 13,
   "id": "5df5b278-59ee-416f-909f-7b74b8f97c4e",
   "metadata": {},
   "outputs": [
    {
     "name": "stdout",
     "output_type": "stream",
     "text": [
      "Download page 1 successfully\n",
      "Download page 2 successfully\n",
      "Download page 3 successfully\n",
      "Download page 4 successfully\n",
      "Download page 5 successfully\n",
      "Download page 6 successfully\n",
      "Download page 7 successfully\n",
      "Download page 8 successfully\n",
      "Download page 9 successfully\n",
      "Download page 10 successfully\n",
      "Download page 11 successfully\n",
      "Download page 12 successfully\n",
      "Download page 13 successfully\n",
      "Download page 14 successfully\n",
      "Download page 15 successfully\n",
      "Download page 16 successfully\n",
      "Download page 17 successfully\n",
      "Download page 18 successfully\n",
      "Download page 19 successfully\n",
      "Download page 20 successfully\n",
      "Download page 21 successfully\n",
      "Download page 22 successfully\n",
      "Download page 23 successfully\n",
      "Download page 24 successfully\n",
      "Download page 25 successfully\n",
      "Download page 26 successfully\n",
      "Download page 27 successfully\n",
      "Download page 28 successfully\n",
      "Download page 29 successfully\n",
      "Download page 30 successfully\n",
      "Download page 31 successfully\n",
      "Download page 32 successfully\n",
      "Download page 33 successfully\n",
      "Download page 34 successfully\n",
      "Download page 35 successfully\n",
      "Download page 36 successfully\n",
      "Download page 37 successfully\n",
      "Download page 38 successfully\n",
      "Download page 39 successfully\n",
      "Download page 40 successfully\n",
      "Download page 41 successfully\n",
      "Download page 42 successfully\n",
      "Download page 43 successfully\n",
      "Download page 44 successfully\n",
      "Download page 45 successfully\n",
      "Download page 46 successfully\n",
      "Download page 47 successfully\n",
      "Download page 48 successfully\n",
      "Download page 49 successfully\n",
      "Download page 50 successfully\n"
     ]
    }
   ],
   "source": [
    "for i in range(1, 51):\n",
    "    url = requests.get(f'https://books.toscrape.com/catalogue/page-{i}.html')\n",
    "    with open(f\"htmls/page{i}.html\", 'w', encoding='utf-8') as f:\n",
    "        f.write(url.text)\n",
    "        print(f'Download page {i} successfully')"
   ]
  },
  {
   "cell_type": "code",
   "execution_count": null,
   "id": "3fb071fa-35d4-40c0-a957-5ba1b349e16f",
   "metadata": {},
   "outputs": [],
   "source": []
  }
 ],
 "metadata": {
  "kernelspec": {
   "display_name": "Python 3 (ipykernel)",
   "language": "python",
   "name": "python3"
  },
  "language_info": {
   "codemirror_mode": {
    "name": "ipython",
    "version": 3
   },
   "file_extension": ".py",
   "mimetype": "text/x-python",
   "name": "python",
   "nbconvert_exporter": "python",
   "pygments_lexer": "ipython3",
   "version": "3.12.7"
  }
 },
 "nbformat": 4,
 "nbformat_minor": 5
}
