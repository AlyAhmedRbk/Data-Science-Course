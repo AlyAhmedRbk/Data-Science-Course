{
 "cells": [
  {
   "cell_type": "code",
   "execution_count": 13,
   "id": "d3161674-3a3b-45bf-ab27-c5500b8120f2",
   "metadata": {},
   "outputs": [
    {
     "name": "stdout",
     "output_type": "stream",
     "text": [
      "[6, 2, 3, 5, 7, 4, 8, 9, 10, 11, 12]\n"
     ]
    }
   ],
   "source": [
    "import json\n",
    "\n",
    "def load_data(filename):\n",
    "    with open(filename, 'r') as f:\n",
    "        return json.load(f)\n",
    "        \n",
    "def find_people_you_may_know(user_id, data):\n",
    "    user_friends = {}\n",
    "    for user in data['users']:\n",
    "        user_friends[user['id']] = set(user['friends'])\n",
    "    \n",
    "    if user_id not in user_friends:\n",
    "        return []\n",
    "\n",
    "    direct_friends = user_friends[user_id]\n",
    "\n",
    "    suggestion = {}\n",
    "    for friend in direct_friends:    \n",
    "        for mutual in user_friends[friend]:\n",
    "            if mutual != user_id  not in direct_friends:\n",
    "                # Count Mutual Friends\n",
    "                suggestion[mutual] = suggestion.get(mutual, 0) + 1\n",
    "\n",
    "    sorted_suggestion = sorted(suggestion.items(), key=lambda x:x[1], reverse=True)\n",
    "\n",
    "    return [user_id for user_id, _ in sorted_suggestion]\n",
    "\n",
    "# Load Data\n",
    "data = load_data('massive_data.json')\n",
    "\n",
    "# data\n",
    "\n",
    "user_id = 1\n",
    "recomandation = find_people_you_may_know(user_id, data)\n",
    "\n",
    "print(recomandation)"
   ]
  },
  {
   "cell_type": "code",
   "execution_count": null,
   "id": "6268a707-dd47-48b2-81f7-02b8f0739144",
   "metadata": {},
   "outputs": [],
   "source": []
  }
 ],
 "metadata": {
  "kernelspec": {
   "display_name": "Python 3 (ipykernel)",
   "language": "python",
   "name": "python3"
  },
  "language_info": {
   "codemirror_mode": {
    "name": "ipython",
    "version": 3
   },
   "file_extension": ".py",
   "mimetype": "text/x-python",
   "name": "python",
   "nbconvert_exporter": "python",
   "pygments_lexer": "ipython3",
   "version": "3.12.7"
  }
 },
 "nbformat": 4,
 "nbformat_minor": 5
}
