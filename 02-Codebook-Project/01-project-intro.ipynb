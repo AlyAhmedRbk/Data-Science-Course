{
 "cells": [
  {
   "cell_type": "code",
   "execution_count": 1,
   "id": "d80e1167-df71-425c-be83-8acfc327a7ba",
   "metadata": {},
   "outputs": [],
   "source": [
    "import json"
   ]
  },
  {
   "cell_type": "code",
   "execution_count": 4,
   "id": "c5fa0723-4a83-45fb-b730-5f3735657a73",
   "metadata": {},
   "outputs": [],
   "source": [
    "# Function to load data from a file\n",
    "\n",
    "def load_data(filename):\n",
    "    with open(filename, 'r') as f:\n",
    "        data = json.load(f)\n",
    "    return data\n",
    "                         \n",
    "    "
   ]
  },
  {
   "cell_type": "code",
   "execution_count": 5,
   "id": "e444ac62-9130-479b-9130-9c12e0a0d1d7",
   "metadata": {},
   "outputs": [],
   "source": [
    "data = load_data('data.json')"
   ]
  },
  {
   "cell_type": "code",
   "execution_count": 6,
   "id": "94575195-baf0-47d1-a6a9-13cf3ef3af1a",
   "metadata": {},
   "outputs": [
    {
     "data": {
      "text/plain": [
       "{'users': [{'id': 1, 'name': 'Amit', 'friends': [2, 3], 'liked_pages': [101]},\n",
       "  {'id': 2, 'name': 'Priya', 'friends': [1, 4], 'liked_pages': [102]},\n",
       "  {'id': 3, 'name': 'Rahul', 'friends': [1], 'liked_pages': [101, 103]},\n",
       "  {'id': 4, 'name': 'Sara', 'friends': [2], 'liked_pages': [104]}],\n",
       " 'pages': [{'id': 101, 'name': 'Python Developers'},\n",
       "  {'id': 102, 'name': 'Data Science Enthusiasts'},\n",
       "  {'id': 103, 'name': 'AI & ML Community'},\n",
       "  {'id': 104, 'name': 'Web Dev Hub'}]}"
      ]
     },
     "execution_count": 6,
     "metadata": {},
     "output_type": "execute_result"
    }
   ],
   "source": [
    "data"
   ]
  },
  {
   "cell_type": "code",
   "execution_count": 7,
   "id": "d9122f11-0792-4840-9a02-4df89e07fadd",
   "metadata": {},
   "outputs": [
    {
     "data": {
      "text/plain": [
       "dict"
      ]
     },
     "execution_count": 7,
     "metadata": {},
     "output_type": "execute_result"
    }
   ],
   "source": [
    "type(data)"
   ]
  },
  {
   "cell_type": "code",
   "execution_count": 29,
   "id": "89a61571-1d69-4090-8421-f11a456fc735",
   "metadata": {},
   "outputs": [],
   "source": [
    "# Function used to Displays users and their connection\n",
    "\n",
    "def display_users(data):\n",
    "    print('Users and their connections \\n')\n",
    "    for user in data['users']:\n",
    "        print(f'ID : {user['id']} - {user['name']} is friends with : {user['friends']} and liked pages are : {user['liked_pages']}')\n",
    "    print('\\nPages Information')\n",
    "    for page in data['pages']:\n",
    "        print(f'{page['id']} - {page['name']}')\n",
    "        "
   ]
  },
  {
   "cell_type": "code",
   "execution_count": 30,
   "id": "f5b248da-a492-433e-b89f-4665ce08a98c",
   "metadata": {},
   "outputs": [
    {
     "name": "stdout",
     "output_type": "stream",
     "text": [
      "Users and their connections \n",
      "\n",
      "ID : 1 - Amit is friends with : [2, 3] and liked pages are : [101]\n",
      "ID : 2 - Priya is friends with : [1, 4] and liked pages are : [102]\n",
      "ID : 3 - Rahul is friends with : [1] and liked pages are : [101, 103]\n",
      "ID : 4 - Sara is friends with : [2] and liked pages are : [104]\n",
      "\n",
      "Pages Information\n",
      "101 - Python Developers\n",
      "102 - Data Science Enthusiasts\n",
      "103 - AI & ML Community\n",
      "104 - Web Dev Hub\n"
     ]
    }
   ],
   "source": [
    "display_users(data)"
   ]
  },
  {
   "cell_type": "code",
   "execution_count": null,
   "id": "0a9b8b50-156a-45d5-ac1f-2632c73ace89",
   "metadata": {},
   "outputs": [],
   "source": []
  }
 ],
 "metadata": {
  "kernelspec": {
   "display_name": "Python 3 (ipykernel)",
   "language": "python",
   "name": "python3"
  },
  "language_info": {
   "codemirror_mode": {
    "name": "ipython",
    "version": 3
   },
   "file_extension": ".py",
   "mimetype": "text/x-python",
   "name": "python",
   "nbconvert_exporter": "python",
   "pygments_lexer": "ipython3",
   "version": "3.12.7"
  }
 },
 "nbformat": 4,
 "nbformat_minor": 5
}
