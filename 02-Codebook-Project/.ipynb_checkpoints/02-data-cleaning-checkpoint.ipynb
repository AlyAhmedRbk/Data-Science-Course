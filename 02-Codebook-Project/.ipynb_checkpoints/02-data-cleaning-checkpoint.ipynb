{
 "cells": [
  {
   "cell_type": "code",
   "execution_count": 1,
   "id": "0cbeaa33-9345-4caa-bb55-da727d3420fb",
   "metadata": {},
   "outputs": [],
   "source": [
    "import json"
   ]
  },
  {
   "cell_type": "code",
   "execution_count": 5,
   "id": "e7f7c4b8-705f-4de9-a2e0-6ea72bdb9145",
   "metadata": {},
   "outputs": [
    {
     "name": "stdout",
     "output_type": "stream",
     "text": [
      "Data has been cleaned successfully\n"
     ]
    }
   ],
   "source": [
    "# Load Json data\n",
    "\n",
    "def clean_data(data):\n",
    "    # remove users with missing names\n",
    "    data['users'] = [user for user in data['users'] if user['name'].strip()]\n",
    "\n",
    "    # remove duplicate friends in users\n",
    "    for user in data['users']:\n",
    "        user['friends'] = list(set(user['friends']))\n",
    "\n",
    "    # Remove Inactive Users\n",
    "    data['users'] = [user for user in data['users'] if user['friends'] or user['liked_pages']]\n",
    "    \n",
    "    return data\n",
    "\n",
    "data = json.load(open('data_dump.json'))\n",
    "data = clean_data(data)\n",
    "json.dump(data, open('clean.json', 'w'), indent=4)\n",
    "print('Data has been cleaned successfully');"
   ]
  },
  {
   "cell_type": "code",
   "execution_count": null,
   "id": "7e2b7e5a-ff25-4ce2-a785-c53f572ba8dc",
   "metadata": {},
   "outputs": [],
   "source": []
  },
  {
   "cell_type": "code",
   "execution_count": null,
   "id": "8ec3121b-8245-4bc7-9f00-9821bd682707",
   "metadata": {},
   "outputs": [],
   "source": []
  }
 ],
 "metadata": {
  "kernelspec": {
   "display_name": "Python 3 (ipykernel)",
   "language": "python",
   "name": "python3"
  },
  "language_info": {
   "codemirror_mode": {
    "name": "ipython",
    "version": 3
   },
   "file_extension": ".py",
   "mimetype": "text/x-python",
   "name": "python",
   "nbconvert_exporter": "python",
   "pygments_lexer": "ipython3",
   "version": "3.12.7"
  }
 },
 "nbformat": 4,
 "nbformat_minor": 5
}
