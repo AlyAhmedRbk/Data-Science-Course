{
 "cells": [
  {
   "cell_type": "code",
   "execution_count": 1,
   "id": "e349891a-5e34-41d0-a449-80938865c391",
   "metadata": {},
   "outputs": [],
   "source": [
    "import numpy as np\n",
    "import pandas as pd\n",
    "import matplotlib.pyplot as plt\n",
    "from sklearn.model_selection import StratifiedShuffleSplit"
   ]
  },
  {
   "cell_type": "code",
   "execution_count": 2,
   "id": "eb953a7e-9116-45be-a091-a9e76d266713",
   "metadata": {},
   "outputs": [],
   "source": [
    "df = pd.read_csv('housing.csv')"
   ]
  },
  {
   "cell_type": "code",
   "execution_count": 3,
   "id": "58b3400a-7677-4cd9-828a-f9836c6816be",
   "metadata": {},
   "outputs": [],
   "source": [
    "df['income_cat'] = pd.cut(df['median_income'], bins=[0, 1.5, 3.0, 4.5, 6.0, np.inf], labels=[1,2,3,4,5,])"
   ]
  },
  {
   "cell_type": "code",
   "execution_count": 4,
   "id": "498f949f-b471-4ba7-9d82-c9110e8a494d",
   "metadata": {},
   "outputs": [],
   "source": [
    "split = StratifiedShuffleSplit(n_splits=1, test_size=0.2, random_state=42)\n",
    "\n",
    "for train_index, test_index in split.split(df, df['income_cat']):\n",
    "    strat_train_set = df.loc[train_index]\n",
    "    strat_test_set = df.loc[test_index]"
   ]
  },
  {
   "cell_type": "code",
   "execution_count": 5,
   "id": "fbc9adce-5fff-44ae-9079-2c814513fc4d",
   "metadata": {},
   "outputs": [],
   "source": [
    "# lets remove the income_cat colum\n",
    "for sett in (strat_test_set, strat_train_set):\n",
    "    sett.drop('income_cat', axis=1, inplace=True)"
   ]
  },
  {
   "cell_type": "code",
   "execution_count": 6,
   "id": "e265f583-9ae8-4fe0-89f6-35946ec94f5b",
   "metadata": {},
   "outputs": [],
   "source": [
    "df  = strat_train_set.copy()"
   ]
  },
  {
   "cell_type": "code",
   "execution_count": 7,
   "id": "7ec8d959-7a9a-4c1c-80c2-7aa94077a4a5",
   "metadata": {},
   "outputs": [
    {
     "data": {
      "text/html": [
       "<div>\n",
       "<style scoped>\n",
       "    .dataframe tbody tr th:only-of-type {\n",
       "        vertical-align: middle;\n",
       "    }\n",
       "\n",
       "    .dataframe tbody tr th {\n",
       "        vertical-align: top;\n",
       "    }\n",
       "\n",
       "    .dataframe thead th {\n",
       "        text-align: right;\n",
       "    }\n",
       "</style>\n",
       "<table border=\"1\" class=\"dataframe\">\n",
       "  <thead>\n",
       "    <tr style=\"text-align: right;\">\n",
       "      <th></th>\n",
       "      <th>longitude</th>\n",
       "      <th>latitude</th>\n",
       "      <th>housing_median_age</th>\n",
       "      <th>total_rooms</th>\n",
       "      <th>total_bedrooms</th>\n",
       "      <th>population</th>\n",
       "      <th>households</th>\n",
       "      <th>median_income</th>\n",
       "      <th>median_house_value</th>\n",
       "      <th>ocean_proximity</th>\n",
       "    </tr>\n",
       "  </thead>\n",
       "  <tbody>\n",
       "    <tr>\n",
       "      <th>12655</th>\n",
       "      <td>-121.46</td>\n",
       "      <td>38.52</td>\n",
       "      <td>29.0</td>\n",
       "      <td>3873.0</td>\n",
       "      <td>797.0</td>\n",
       "      <td>2237.0</td>\n",
       "      <td>706.0</td>\n",
       "      <td>2.1736</td>\n",
       "      <td>72100.0</td>\n",
       "      <td>INLAND</td>\n",
       "    </tr>\n",
       "    <tr>\n",
       "      <th>15502</th>\n",
       "      <td>-117.23</td>\n",
       "      <td>33.09</td>\n",
       "      <td>7.0</td>\n",
       "      <td>5320.0</td>\n",
       "      <td>855.0</td>\n",
       "      <td>2015.0</td>\n",
       "      <td>768.0</td>\n",
       "      <td>6.3373</td>\n",
       "      <td>279600.0</td>\n",
       "      <td>NEAR OCEAN</td>\n",
       "    </tr>\n",
       "    <tr>\n",
       "      <th>2908</th>\n",
       "      <td>-119.04</td>\n",
       "      <td>35.37</td>\n",
       "      <td>44.0</td>\n",
       "      <td>1618.0</td>\n",
       "      <td>310.0</td>\n",
       "      <td>667.0</td>\n",
       "      <td>300.0</td>\n",
       "      <td>2.8750</td>\n",
       "      <td>82700.0</td>\n",
       "      <td>INLAND</td>\n",
       "    </tr>\n",
       "    <tr>\n",
       "      <th>14053</th>\n",
       "      <td>-117.13</td>\n",
       "      <td>32.75</td>\n",
       "      <td>24.0</td>\n",
       "      <td>1877.0</td>\n",
       "      <td>519.0</td>\n",
       "      <td>898.0</td>\n",
       "      <td>483.0</td>\n",
       "      <td>2.2264</td>\n",
       "      <td>112500.0</td>\n",
       "      <td>NEAR OCEAN</td>\n",
       "    </tr>\n",
       "    <tr>\n",
       "      <th>20496</th>\n",
       "      <td>-118.70</td>\n",
       "      <td>34.28</td>\n",
       "      <td>27.0</td>\n",
       "      <td>3536.0</td>\n",
       "      <td>646.0</td>\n",
       "      <td>1837.0</td>\n",
       "      <td>580.0</td>\n",
       "      <td>4.4964</td>\n",
       "      <td>238300.0</td>\n",
       "      <td>&lt;1H OCEAN</td>\n",
       "    </tr>\n",
       "  </tbody>\n",
       "</table>\n",
       "</div>"
      ],
      "text/plain": [
       "       longitude  latitude  housing_median_age  total_rooms  total_bedrooms  \\\n",
       "12655    -121.46     38.52                29.0       3873.0           797.0   \n",
       "15502    -117.23     33.09                 7.0       5320.0           855.0   \n",
       "2908     -119.04     35.37                44.0       1618.0           310.0   \n",
       "14053    -117.13     32.75                24.0       1877.0           519.0   \n",
       "20496    -118.70     34.28                27.0       3536.0           646.0   \n",
       "\n",
       "       population  households  median_income  median_house_value  \\\n",
       "12655      2237.0       706.0         2.1736             72100.0   \n",
       "15502      2015.0       768.0         6.3373            279600.0   \n",
       "2908        667.0       300.0         2.8750             82700.0   \n",
       "14053       898.0       483.0         2.2264            112500.0   \n",
       "20496      1837.0       580.0         4.4964            238300.0   \n",
       "\n",
       "      ocean_proximity  \n",
       "12655          INLAND  \n",
       "15502      NEAR OCEAN  \n",
       "2908           INLAND  \n",
       "14053      NEAR OCEAN  \n",
       "20496       <1H OCEAN  "
      ]
     },
     "execution_count": 7,
     "metadata": {},
     "output_type": "execute_result"
    }
   ],
   "source": [
    "df.head()"
   ]
  },
  {
   "cell_type": "code",
   "execution_count": 8,
   "id": "563b8125-a823-414f-8c4e-b6084820868f",
   "metadata": {},
   "outputs": [],
   "source": [
    "housing = strat_train_set.drop('median_house_value', axis=1)\n",
    "housing_labels = strat_train_set['median_house_value'].copy()"
   ]
  },
  {
   "cell_type": "code",
   "execution_count": 9,
   "id": "16a95773-206f-4bc5-879c-5912ce000ee5",
   "metadata": {},
   "outputs": [
    {
     "data": {
      "text/html": [
       "<div>\n",
       "<style scoped>\n",
       "    .dataframe tbody tr th:only-of-type {\n",
       "        vertical-align: middle;\n",
       "    }\n",
       "\n",
       "    .dataframe tbody tr th {\n",
       "        vertical-align: top;\n",
       "    }\n",
       "\n",
       "    .dataframe thead th {\n",
       "        text-align: right;\n",
       "    }\n",
       "</style>\n",
       "<table border=\"1\" class=\"dataframe\">\n",
       "  <thead>\n",
       "    <tr style=\"text-align: right;\">\n",
       "      <th></th>\n",
       "      <th>longitude</th>\n",
       "      <th>latitude</th>\n",
       "      <th>housing_median_age</th>\n",
       "      <th>total_rooms</th>\n",
       "      <th>total_bedrooms</th>\n",
       "      <th>population</th>\n",
       "      <th>households</th>\n",
       "      <th>median_income</th>\n",
       "      <th>ocean_proximity</th>\n",
       "    </tr>\n",
       "  </thead>\n",
       "  <tbody>\n",
       "    <tr>\n",
       "      <th>12655</th>\n",
       "      <td>-121.46</td>\n",
       "      <td>38.52</td>\n",
       "      <td>29.0</td>\n",
       "      <td>3873.0</td>\n",
       "      <td>797.0</td>\n",
       "      <td>2237.0</td>\n",
       "      <td>706.0</td>\n",
       "      <td>2.1736</td>\n",
       "      <td>INLAND</td>\n",
       "    </tr>\n",
       "    <tr>\n",
       "      <th>15502</th>\n",
       "      <td>-117.23</td>\n",
       "      <td>33.09</td>\n",
       "      <td>7.0</td>\n",
       "      <td>5320.0</td>\n",
       "      <td>855.0</td>\n",
       "      <td>2015.0</td>\n",
       "      <td>768.0</td>\n",
       "      <td>6.3373</td>\n",
       "      <td>NEAR OCEAN</td>\n",
       "    </tr>\n",
       "    <tr>\n",
       "      <th>2908</th>\n",
       "      <td>-119.04</td>\n",
       "      <td>35.37</td>\n",
       "      <td>44.0</td>\n",
       "      <td>1618.0</td>\n",
       "      <td>310.0</td>\n",
       "      <td>667.0</td>\n",
       "      <td>300.0</td>\n",
       "      <td>2.8750</td>\n",
       "      <td>INLAND</td>\n",
       "    </tr>\n",
       "    <tr>\n",
       "      <th>14053</th>\n",
       "      <td>-117.13</td>\n",
       "      <td>32.75</td>\n",
       "      <td>24.0</td>\n",
       "      <td>1877.0</td>\n",
       "      <td>519.0</td>\n",
       "      <td>898.0</td>\n",
       "      <td>483.0</td>\n",
       "      <td>2.2264</td>\n",
       "      <td>NEAR OCEAN</td>\n",
       "    </tr>\n",
       "    <tr>\n",
       "      <th>20496</th>\n",
       "      <td>-118.70</td>\n",
       "      <td>34.28</td>\n",
       "      <td>27.0</td>\n",
       "      <td>3536.0</td>\n",
       "      <td>646.0</td>\n",
       "      <td>1837.0</td>\n",
       "      <td>580.0</td>\n",
       "      <td>4.4964</td>\n",
       "      <td>&lt;1H OCEAN</td>\n",
       "    </tr>\n",
       "  </tbody>\n",
       "</table>\n",
       "</div>"
      ],
      "text/plain": [
       "       longitude  latitude  housing_median_age  total_rooms  total_bedrooms  \\\n",
       "12655    -121.46     38.52                29.0       3873.0           797.0   \n",
       "15502    -117.23     33.09                 7.0       5320.0           855.0   \n",
       "2908     -119.04     35.37                44.0       1618.0           310.0   \n",
       "14053    -117.13     32.75                24.0       1877.0           519.0   \n",
       "20496    -118.70     34.28                27.0       3536.0           646.0   \n",
       "\n",
       "       population  households  median_income ocean_proximity  \n",
       "12655      2237.0       706.0         2.1736          INLAND  \n",
       "15502      2015.0       768.0         6.3373      NEAR OCEAN  \n",
       "2908        667.0       300.0         2.8750          INLAND  \n",
       "14053       898.0       483.0         2.2264      NEAR OCEAN  \n",
       "20496      1837.0       580.0         4.4964       <1H OCEAN  "
      ]
     },
     "execution_count": 9,
     "metadata": {},
     "output_type": "execute_result"
    }
   ],
   "source": [
    "housing.head()"
   ]
  },
  {
   "cell_type": "code",
   "execution_count": 13,
   "id": "23b1dc91-7bf0-458d-afc7-12a04cee4f01",
   "metadata": {},
   "outputs": [],
   "source": [
    "housing = housing.drop('ocean_proximity', axis=1)"
   ]
  },
  {
   "cell_type": "code",
   "execution_count": 14,
   "id": "482af2e9-9242-4e1c-aa43-4d45f779c330",
   "metadata": {},
   "outputs": [],
   "source": [
    "from sklearn.pipeline import Pipeline\n",
    "from sklearn.impute import SimpleImputer\n",
    "from sklearn.preprocessing import StandardScaler"
   ]
  },
  {
   "cell_type": "code",
   "execution_count": 15,
   "id": "c88d8d8d-91d3-4483-a0a6-730f5f7cd82f",
   "metadata": {},
   "outputs": [],
   "source": [
    "mypipeline = Pipeline([\n",
    "    ('impute', SimpleImputer(strategy='median')),\n",
    "     ('standardize', StandardScaler()),\n",
    "     ])"
   ]
  },
  {
   "cell_type": "code",
   "execution_count": 17,
   "id": "4ff0bae8-d41b-4e94-9bfb-13992e72c34f",
   "metadata": {},
   "outputs": [
    {
     "data": {
      "text/plain": [
       "array([[-0.94135046,  1.34743822,  0.02756357, ...,  0.73260236,\n",
       "         0.55628602, -0.8936472 ],\n",
       "       [ 1.17178212, -1.19243966, -1.72201763, ...,  0.53361152,\n",
       "         0.72131799,  1.292168  ],\n",
       "       [ 0.26758118, -0.1259716 ,  1.22045984, ..., -0.67467519,\n",
       "        -0.52440722, -0.52543365],\n",
       "       ...,\n",
       "       [-1.5707942 ,  1.31001828,  1.53856552, ..., -0.86201341,\n",
       "        -0.86511838, -0.36547546],\n",
       "       [-1.56080303,  1.2492109 , -1.1653327 , ..., -0.18974707,\n",
       "         0.01061579,  0.16826095],\n",
       "       [-1.28105026,  2.02567448, -0.13148926, ..., -0.71232211,\n",
       "        -0.79857323, -0.390569  ]])"
      ]
     },
     "execution_count": 17,
     "metadata": {},
     "output_type": "execute_result"
    }
   ],
   "source": [
    "mypipeline.fit_transform(housing)"
   ]
  },
  {
   "cell_type": "code",
   "execution_count": null,
   "id": "a315f160-0fbd-4738-a26e-b942b7db3216",
   "metadata": {},
   "outputs": [],
   "source": []
  }
 ],
 "metadata": {
  "kernelspec": {
   "display_name": "Python 3 (ipykernel)",
   "language": "python",
   "name": "python3"
  },
  "language_info": {
   "codemirror_mode": {
    "name": "ipython",
    "version": 3
   },
   "file_extension": ".py",
   "mimetype": "text/x-python",
   "name": "python",
   "nbconvert_exporter": "python",
   "pygments_lexer": "ipython3",
   "version": "3.12.7"
  }
 },
 "nbformat": 4,
 "nbformat_minor": 5
}
