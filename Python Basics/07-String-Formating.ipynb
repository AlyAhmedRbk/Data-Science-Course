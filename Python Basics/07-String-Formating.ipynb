{
 "cells": [
  {
   "cell_type": "markdown",
   "id": "c454b3f8-2acf-4ae8-9650-ee780a008a0d",
   "metadata": {},
   "source": [
    "# String Formating and F String in Python"
   ]
  },
  {
   "cell_type": "markdown",
   "id": "964102da-ea4c-4889-b943-0c10c1809bac",
   "metadata": {},
   "source": [
    "Strings are immutable in nature"
   ]
  },
  {
   "cell_type": "code",
   "execution_count": 1,
   "id": "0aaa0521-6c67-4987-8063-b1927c1fa3ff",
   "metadata": {},
   "outputs": [],
   "source": [
    "name = 'Ali Ahmed'"
   ]
  },
  {
   "cell_type": "code",
   "execution_count": 2,
   "id": "cc1de1e3-b170-4aec-89ea-ce7009f5f73f",
   "metadata": {},
   "outputs": [
    {
     "data": {
      "text/plain": [
       "'Ali Ahmed'"
      ]
     },
     "execution_count": 2,
     "metadata": {},
     "output_type": "execute_result"
    }
   ],
   "source": [
    "name"
   ]
  },
  {
   "cell_type": "code",
   "execution_count": 3,
   "id": "f71da037-5b3d-442e-8a50-5f92de6a0064",
   "metadata": {},
   "outputs": [
    {
     "data": {
      "text/plain": [
       "'A'"
      ]
     },
     "execution_count": 3,
     "metadata": {},
     "output_type": "execute_result"
    }
   ],
   "source": [
    "name[0]"
   ]
  },
  {
   "cell_type": "code",
   "execution_count": 4,
   "id": "9d9edfdc-d8ea-4bde-8470-ef469010ab54",
   "metadata": {},
   "outputs": [
    {
     "ename": "TypeError",
     "evalue": "'str' object does not support item assignment",
     "output_type": "error",
     "traceback": [
      "\u001b[0;31m---------------------------------------------------------------------------\u001b[0m",
      "\u001b[0;31mTypeError\u001b[0m                                 Traceback (most recent call last)",
      "Cell \u001b[0;32mIn[4], line 1\u001b[0m\n\u001b[0;32m----> 1\u001b[0m name[\u001b[38;5;241m0\u001b[39m] \u001b[38;5;241m=\u001b[39m \u001b[38;5;124m'\u001b[39m\u001b[38;5;124mK\u001b[39m\u001b[38;5;124m'\u001b[39m\n",
      "\u001b[0;31mTypeError\u001b[0m: 'str' object does not support item assignment"
     ]
    }
   ],
   "source": [
    "name[0] = 'K' #Strings are imutable in nature"
   ]
  },
  {
   "cell_type": "code",
   "execution_count": 5,
   "id": "21d9ff2a-ce70-42f5-bf8d-0814f9aceb7b",
   "metadata": {},
   "outputs": [
    {
     "data": {
      "text/plain": [
       "'ALI AHMED'"
      ]
     },
     "execution_count": 5,
     "metadata": {},
     "output_type": "execute_result"
    }
   ],
   "source": [
    "name.upper() # new copy of string but the actual value remains same"
   ]
  },
  {
   "cell_type": "code",
   "execution_count": 6,
   "id": "7862ecb3-1db5-4286-a192-d05c79dfc4c6",
   "metadata": {},
   "outputs": [
    {
     "data": {
      "text/plain": [
       "'Ali Ahmed'"
      ]
     },
     "execution_count": 6,
     "metadata": {},
     "output_type": "execute_result"
    }
   ],
   "source": [
    "name"
   ]
  },
  {
   "cell_type": "code",
   "execution_count": 9,
   "id": "40226deb-fa29-4304-a20e-96c16493fc8f",
   "metadata": {},
   "outputs": [
    {
     "name": "stdout",
     "output_type": "stream",
     "text": [
      "Hello My Name is Ali Ahmed and I am 24 Years Old.\n"
     ]
    }
   ],
   "source": [
    "#String Formating\n",
    "name = 'Ali Ahmed'\n",
    "age = 24\n",
    "\n",
    "print(\"Hello My Name is {} and I am {} Years Old.\".format(name, age))"
   ]
  },
  {
   "cell_type": "code",
   "execution_count": 10,
   "id": "a9bf9d94-55cb-4d90-8632-cc625f831aa6",
   "metadata": {},
   "outputs": [
    {
     "name": "stdout",
     "output_type": "stream",
     "text": [
      "Hello My Name is Ali Ahmed and I am 24 Years Old.\n"
     ]
    }
   ],
   "source": [
    "# F Strings\n",
    "name = 'Ali Ahmed'\n",
    "age = 24\n",
    "\n",
    "print(f\"Hello My Name is {name} and I am {age} Years Old.\")"
   ]
  },
  {
   "cell_type": "code",
   "execution_count": null,
   "id": "5e8760c5-3bdc-46a4-9c2b-74afc54b1009",
   "metadata": {},
   "outputs": [],
   "source": []
  }
 ],
 "metadata": {
  "kernelspec": {
   "display_name": "Python 3 (ipykernel)",
   "language": "python",
   "name": "python3"
  },
  "language_info": {
   "codemirror_mode": {
    "name": "ipython",
    "version": 3
   },
   "file_extension": ".py",
   "mimetype": "text/x-python",
   "name": "python",
   "nbconvert_exporter": "python",
   "pygments_lexer": "ipython3",
   "version": "3.12.7"
  }
 },
 "nbformat": 4,
 "nbformat_minor": 5
}
