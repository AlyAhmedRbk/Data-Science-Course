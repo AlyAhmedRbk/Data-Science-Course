{
 "cells": [
  {
   "cell_type": "markdown",
   "id": "beeeb694-a448-49fe-9f87-f2a2d4da62e0",
   "metadata": {},
   "source": [
    "# Lists and Lists Methods in Python\n",
    "\n",
    "lists are mutable"
   ]
  },
  {
   "cell_type": "code",
   "execution_count": 1,
   "id": "7b3d9353-3941-4692-aa77-2f44a16f7777",
   "metadata": {},
   "outputs": [],
   "source": [
    "lists = [1,23,24,12,51,53]"
   ]
  },
  {
   "cell_type": "code",
   "execution_count": 2,
   "id": "0b05ff28-9e1a-4e7d-9ef0-8e7fc319efc7",
   "metadata": {},
   "outputs": [
    {
     "data": {
      "text/plain": [
       "1"
      ]
     },
     "execution_count": 2,
     "metadata": {},
     "output_type": "execute_result"
    }
   ],
   "source": [
    "lists[0]"
   ]
  },
  {
   "cell_type": "code",
   "execution_count": 4,
   "id": "640decd8-2de6-4ba7-bf6c-e343121e3dae",
   "metadata": {},
   "outputs": [
    {
     "data": {
      "text/plain": [
       "23"
      ]
     },
     "execution_count": 4,
     "metadata": {},
     "output_type": "execute_result"
    }
   ],
   "source": [
    "lists[1]"
   ]
  },
  {
   "cell_type": "code",
   "execution_count": 6,
   "id": "258e57cb-d445-43fc-821b-09af26783f96",
   "metadata": {},
   "outputs": [],
   "source": [
    "lists[5] = 7"
   ]
  },
  {
   "cell_type": "code",
   "execution_count": 7,
   "id": "2a7b66f1-0cde-4442-a1a5-1f8b07c193c8",
   "metadata": {},
   "outputs": [
    {
     "data": {
      "text/plain": [
       "[1, 23, 24, 12, 51, 7]"
      ]
     },
     "execution_count": 7,
     "metadata": {},
     "output_type": "execute_result"
    }
   ],
   "source": [
    "lists"
   ]
  },
  {
   "cell_type": "code",
   "execution_count": 8,
   "id": "1d507a7c-0f07-4532-86d3-c98438fcf7b4",
   "metadata": {},
   "outputs": [],
   "source": [
    "lists.append(9)"
   ]
  },
  {
   "cell_type": "code",
   "execution_count": 10,
   "id": "44b46024-ac08-45d3-a5b8-9f8ddc0cdcde",
   "metadata": {},
   "outputs": [
    {
     "data": {
      "text/plain": [
       "[1, 23, 24, 12, 51, 7, 9]"
      ]
     },
     "execution_count": 10,
     "metadata": {},
     "output_type": "execute_result"
    }
   ],
   "source": [
    "lists"
   ]
  },
  {
   "cell_type": "code",
   "execution_count": 12,
   "id": "23087533-d1d0-4d46-a640-f89b8baba575",
   "metadata": {},
   "outputs": [
    {
     "data": {
      "text/plain": [
       "9"
      ]
     },
     "execution_count": 12,
     "metadata": {},
     "output_type": "execute_result"
    }
   ],
   "source": [
    "lists.pop()"
   ]
  },
  {
   "cell_type": "code",
   "execution_count": 13,
   "id": "e675c615-4b2d-406d-9290-8a0cfb507842",
   "metadata": {},
   "outputs": [
    {
     "data": {
      "text/plain": [
       "[1, 23, 24, 12, 51, 7]"
      ]
     },
     "execution_count": 13,
     "metadata": {},
     "output_type": "execute_result"
    }
   ],
   "source": [
    "lists"
   ]
  },
  {
   "cell_type": "code",
   "execution_count": 14,
   "id": "4d069061-263e-4c1b-98e1-939c9a328510",
   "metadata": {},
   "outputs": [],
   "source": [
    "list2 = [1,3,5,7]"
   ]
  },
  {
   "cell_type": "code",
   "execution_count": 15,
   "id": "8e8c8021-c27d-4dc6-81be-2a29adcd09ce",
   "metadata": {},
   "outputs": [],
   "source": [
    "list1 = lists"
   ]
  },
  {
   "cell_type": "code",
   "execution_count": 16,
   "id": "c7c7ce58-5f6f-46b7-bc60-d687ecba577d",
   "metadata": {},
   "outputs": [],
   "source": [
    "list1.extend(list2)"
   ]
  },
  {
   "cell_type": "code",
   "execution_count": 21,
   "id": "1885ee99-6145-4a44-a6e2-f9b9664472b6",
   "metadata": {},
   "outputs": [
    {
     "data": {
      "text/plain": [
       "[1, 100, 23, 24, 12, 51, 7, 1, 3, 5, 7, 100]"
      ]
     },
     "execution_count": 21,
     "metadata": {},
     "output_type": "execute_result"
    }
   ],
   "source": [
    "list1"
   ]
  },
  {
   "cell_type": "code",
   "execution_count": 20,
   "id": "606f7500-57c5-4ccd-89cf-c7c501c6c749",
   "metadata": {},
   "outputs": [],
   "source": [
    "list1.insert(1,100)"
   ]
  },
  {
   "cell_type": "code",
   "execution_count": 22,
   "id": "4df277ff-6213-48c3-a3c3-30475ccf6313",
   "metadata": {},
   "outputs": [
    {
     "data": {
      "text/plain": [
       "1"
      ]
     },
     "execution_count": 22,
     "metadata": {},
     "output_type": "execute_result"
    }
   ],
   "source": [
    "list1.index(100)"
   ]
  },
  {
   "cell_type": "code",
   "execution_count": 23,
   "id": "5e45822b-48fe-473a-9486-b8d98c7c0430",
   "metadata": {},
   "outputs": [
    {
     "data": {
      "text/plain": [
       "3"
      ]
     },
     "execution_count": 23,
     "metadata": {},
     "output_type": "execute_result"
    }
   ],
   "source": [
    "list1.index(24)"
   ]
  },
  {
   "cell_type": "code",
   "execution_count": 24,
   "id": "cd5fd44b-b842-4606-b160-c439d64bac19",
   "metadata": {},
   "outputs": [
    {
     "data": {
      "text/plain": [
       "2"
      ]
     },
     "execution_count": 24,
     "metadata": {},
     "output_type": "execute_result"
    }
   ],
   "source": [
    "list1.count(100)"
   ]
  },
  {
   "cell_type": "code",
   "execution_count": 25,
   "id": "775c9df1-5f3e-4dd5-aa0e-796536f4cb07",
   "metadata": {},
   "outputs": [],
   "source": [
    "list1.sort()"
   ]
  },
  {
   "cell_type": "code",
   "execution_count": 26,
   "id": "02fff3b8-112e-4074-93fb-ae94d4e83cc5",
   "metadata": {},
   "outputs": [
    {
     "data": {
      "text/plain": [
       "[1, 1, 3, 5, 7, 7, 12, 23, 24, 51, 100, 100]"
      ]
     },
     "execution_count": 26,
     "metadata": {},
     "output_type": "execute_result"
    }
   ],
   "source": [
    "list1"
   ]
  },
  {
   "cell_type": "code",
   "execution_count": 27,
   "id": "8aa97b9d-aef2-43c5-808c-1d0eedfb8a2c",
   "metadata": {},
   "outputs": [
    {
     "data": {
      "text/plain": [
       "[1, 3, 5, 7]"
      ]
     },
     "execution_count": 27,
     "metadata": {},
     "output_type": "execute_result"
    }
   ],
   "source": [
    "sorted(list2)"
   ]
  },
  {
   "cell_type": "code",
   "execution_count": 28,
   "id": "ae3d0253-4189-44bc-8cad-58cf367de867",
   "metadata": {},
   "outputs": [
    {
     "data": {
      "text/plain": [
       "[1, 3, 5, 7]"
      ]
     },
     "execution_count": 28,
     "metadata": {},
     "output_type": "execute_result"
    }
   ],
   "source": [
    "list2"
   ]
  },
  {
   "cell_type": "code",
   "execution_count": 29,
   "id": "6109bf7b-4abd-4853-90be-a686b454ddf0",
   "metadata": {},
   "outputs": [],
   "source": [
    "list2.reverse()"
   ]
  },
  {
   "cell_type": "code",
   "execution_count": 30,
   "id": "978918f9-27f5-4981-bc60-4e964579679e",
   "metadata": {},
   "outputs": [
    {
     "data": {
      "text/plain": [
       "[7, 5, 3, 1]"
      ]
     },
     "execution_count": 30,
     "metadata": {},
     "output_type": "execute_result"
    }
   ],
   "source": [
    "list2"
   ]
  },
  {
   "cell_type": "code",
   "execution_count": 31,
   "id": "66fd5589-2fc3-4a27-b235-90e434891943",
   "metadata": {},
   "outputs": [
    {
     "data": {
      "text/plain": [
       "[1, 3, 5, 7]"
      ]
     },
     "execution_count": 31,
     "metadata": {},
     "output_type": "execute_result"
    }
   ],
   "source": [
    "sorted(list2)"
   ]
  },
  {
   "cell_type": "code",
   "execution_count": 32,
   "id": "b74189f2-3bd6-4a88-a69e-8af258681542",
   "metadata": {},
   "outputs": [
    {
     "data": {
      "text/plain": [
       "[7, 5, 3, 1]"
      ]
     },
     "execution_count": 32,
     "metadata": {},
     "output_type": "execute_result"
    }
   ],
   "source": [
    "list2"
   ]
  },
  {
   "cell_type": "code",
   "execution_count": null,
   "id": "9b38e068-70eb-44ac-996b-49181ed025a4",
   "metadata": {},
   "outputs": [],
   "source": []
  }
 ],
 "metadata": {
  "kernelspec": {
   "display_name": "Python 3 (ipykernel)",
   "language": "python",
   "name": "python3"
  },
  "language_info": {
   "codemirror_mode": {
    "name": "ipython",
    "version": 3
   },
   "file_extension": ".py",
   "mimetype": "text/x-python",
   "name": "python",
   "nbconvert_exporter": "python",
   "pygments_lexer": "ipython3",
   "version": "3.12.7"
  }
 },
 "nbformat": 4,
 "nbformat_minor": 5
}
