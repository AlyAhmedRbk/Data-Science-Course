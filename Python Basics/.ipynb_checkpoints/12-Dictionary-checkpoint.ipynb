{
 "cells": [
  {
   "cell_type": "markdown",
   "id": "282acad7-b05a-4398-b1a3-c4ce8ed89732",
   "metadata": {},
   "source": [
    "# Dictionary And Dictionary Methods in python\n",
    "\n",
    "A dictionary is an unordered, mutable and key-value pair collection. It allows efficient data retieval and modification"
   ]
  },
  {
   "cell_type": "code",
   "execution_count": 1,
   "id": "162b62d9-f1b3-48b9-8451-cf17b6fb3556",
   "metadata": {},
   "outputs": [],
   "source": [
    "empty_dict = {}"
   ]
  },
  {
   "cell_type": "code",
   "execution_count": 2,
   "id": "c1a02a38-3c3d-42a6-8e14-d20b691b9ed6",
   "metadata": {},
   "outputs": [
    {
     "data": {
      "text/plain": [
       "{}"
      ]
     },
     "execution_count": 2,
     "metadata": {},
     "output_type": "execute_result"
    }
   ],
   "source": [
    "empty_dict"
   ]
  },
  {
   "cell_type": "code",
   "execution_count": 3,
   "id": "73f87d60-da28-4412-b4ac-d886622f1c19",
   "metadata": {},
   "outputs": [],
   "source": [
    "student = {\n",
    "    \"name\" : \"Ali Ahmed\",\n",
    "    \"age\" : 25,\n",
    "    \"grade\" : \"A+\"\n",
    "}"
   ]
  },
  {
   "cell_type": "code",
   "execution_count": 4,
   "id": "e6334488-7c90-422a-bd81-55f0d9d102c0",
   "metadata": {},
   "outputs": [
    {
     "data": {
      "text/plain": [
       "{'name': 'Ali Ahmed', 'age': 25, 'grade': 'A+'}"
      ]
     },
     "execution_count": 4,
     "metadata": {},
     "output_type": "execute_result"
    }
   ],
   "source": [
    "student"
   ]
  },
  {
   "cell_type": "code",
   "execution_count": 5,
   "id": "b3118060-5bb2-48dd-80f9-b582eb78877d",
   "metadata": {},
   "outputs": [
    {
     "data": {
      "text/plain": [
       "dict"
      ]
     },
     "execution_count": 5,
     "metadata": {},
     "output_type": "execute_result"
    }
   ],
   "source": [
    "type(student)"
   ]
  },
  {
   "cell_type": "code",
   "execution_count": 6,
   "id": "f33a799f-2c02-4610-8b4d-92c66333f426",
   "metadata": {},
   "outputs": [
    {
     "data": {
      "text/plain": [
       "'Ali Ahmed'"
      ]
     },
     "execution_count": 6,
     "metadata": {},
     "output_type": "execute_result"
    }
   ],
   "source": [
    "student['name']"
   ]
  },
  {
   "cell_type": "code",
   "execution_count": 7,
   "id": "28633848-56ad-4f80-8456-12ce0a01d25c",
   "metadata": {},
   "outputs": [
    {
     "data": {
      "text/plain": [
       "25"
      ]
     },
     "execution_count": 7,
     "metadata": {},
     "output_type": "execute_result"
    }
   ],
   "source": [
    "student['age']"
   ]
  },
  {
   "cell_type": "code",
   "execution_count": 10,
   "id": "89994719-f0d8-40d1-a3b3-c22460fb786f",
   "metadata": {},
   "outputs": [
    {
     "name": "stdout",
     "output_type": "stream",
     "text": [
      "name : Ali Ahmed\n",
      "age : 25\n",
      "grade : A+\n"
     ]
    }
   ],
   "source": [
    "for std in student:\n",
    "    print(f\"{std} : {student[std]}\")"
   ]
  },
  {
   "cell_type": "code",
   "execution_count": 12,
   "id": "1d5e74ed-7144-4202-8aac-442d511019d7",
   "metadata": {},
   "outputs": [
    {
     "name": "stdout",
     "output_type": "stream",
     "text": [
      "Found student  : Ali Ahmed\n"
     ]
    }
   ],
   "source": [
    "for std in student:\n",
    "    if student[std] == 'Ali Ahmed':\n",
    "        print(f'Found student  : {student[std]}' )\n",
    "        break;"
   ]
  },
  {
   "cell_type": "code",
   "execution_count": null,
   "id": "c3a19351-38d8-4e0f-8ed1-5118e4273d7e",
   "metadata": {},
   "outputs": [],
   "source": []
  }
 ],
 "metadata": {
  "kernelspec": {
   "display_name": "Python 3 (ipykernel)",
   "language": "python",
   "name": "python3"
  },
  "language_info": {
   "codemirror_mode": {
    "name": "ipython",
    "version": 3
   },
   "file_extension": ".py",
   "mimetype": "text/x-python",
   "name": "python",
   "nbconvert_exporter": "python",
   "pygments_lexer": "ipython3",
   "version": "3.12.7"
  }
 },
 "nbformat": 4,
 "nbformat_minor": 5
}
