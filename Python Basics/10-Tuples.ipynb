{
 "cells": [
  {
   "cell_type": "markdown",
   "id": "1d07156b-19ce-4296-8120-a5da7abe0125",
   "metadata": {},
   "source": [
    "# Tuples In Python\n",
    "Tuples are unchangeable (imutable)\n"
   ]
  },
  {
   "cell_type": "code",
   "execution_count": 1,
   "id": "0af95d7f-fb95-4b32-a401-01ec8b9b599d",
   "metadata": {},
   "outputs": [],
   "source": [
    "tuple1 = ()"
   ]
  },
  {
   "cell_type": "code",
   "execution_count": 2,
   "id": "1c9678c7-21f3-4d99-93bb-0cca2770b44b",
   "metadata": {},
   "outputs": [
    {
     "data": {
      "text/plain": [
       "()"
      ]
     },
     "execution_count": 2,
     "metadata": {},
     "output_type": "execute_result"
    }
   ],
   "source": [
    "tuple1"
   ]
  },
  {
   "cell_type": "code",
   "execution_count": 3,
   "id": "277b53d6-ab10-499d-9107-155efcbf41ec",
   "metadata": {},
   "outputs": [
    {
     "data": {
      "text/plain": [
       "tuple"
      ]
     },
     "execution_count": 3,
     "metadata": {},
     "output_type": "execute_result"
    }
   ],
   "source": [
    "type(tuple1)"
   ]
  },
  {
   "cell_type": "code",
   "execution_count": 4,
   "id": "b93b7587-06b2-4e91-9b4b-2eb0e053a41a",
   "metadata": {},
   "outputs": [],
   "source": [
    "t = (12,23,24,52,23)"
   ]
  },
  {
   "cell_type": "code",
   "execution_count": 5,
   "id": "c99b0010-c8b2-4b69-8137-c5a90983c1af",
   "metadata": {},
   "outputs": [
    {
     "data": {
      "text/plain": [
       "(12, 23, 24, 52, 23)"
      ]
     },
     "execution_count": 5,
     "metadata": {},
     "output_type": "execute_result"
    }
   ],
   "source": [
    "t"
   ]
  },
  {
   "cell_type": "code",
   "execution_count": 6,
   "id": "ffb8c356-98ce-4e2f-8384-c6e2f8382793",
   "metadata": {},
   "outputs": [
    {
     "data": {
      "text/plain": [
       "tuple"
      ]
     },
     "execution_count": 6,
     "metadata": {},
     "output_type": "execute_result"
    }
   ],
   "source": [
    "type(t)"
   ]
  },
  {
   "cell_type": "code",
   "execution_count": 7,
   "id": "ad1afc0d-46bb-4ad4-93e7-bd50a5817a06",
   "metadata": {},
   "outputs": [
    {
     "name": "stdout",
     "output_type": "stream",
     "text": [
      "12\n",
      "23\n",
      "24\n",
      "52\n",
      "23\n"
     ]
    }
   ],
   "source": [
    "for item in t:\n",
    "    print(item)"
   ]
  },
  {
   "cell_type": "code",
   "execution_count": 8,
   "id": "e654a550-5df1-49c6-8c42-461a1fa9b498",
   "metadata": {},
   "outputs": [
    {
     "data": {
      "text/plain": [
       "12"
      ]
     },
     "execution_count": 8,
     "metadata": {},
     "output_type": "execute_result"
    }
   ],
   "source": [
    "t[0]"
   ]
  },
  {
   "cell_type": "code",
   "execution_count": 9,
   "id": "6d9c2f0c-f414-4f57-8bd2-954ce3c280ec",
   "metadata": {},
   "outputs": [],
   "source": [
    "# packing of tuples\n",
    "person = ('Ali Ahmed', 24, 'Data Science')\n",
    "\n",
    "# unpacking of Tuples\n",
    "name, age, profession = person"
   ]
  },
  {
   "cell_type": "code",
   "execution_count": 10,
   "id": "4d2e12a2-b559-4439-b0fb-f42e58949ade",
   "metadata": {},
   "outputs": [
    {
     "data": {
      "text/plain": [
       "'Ali Ahmed'"
      ]
     },
     "execution_count": 10,
     "metadata": {},
     "output_type": "execute_result"
    }
   ],
   "source": [
    "name"
   ]
  },
  {
   "cell_type": "code",
   "execution_count": 11,
   "id": "454d03ce-7334-440c-ae8b-b29430d8cb13",
   "metadata": {},
   "outputs": [
    {
     "data": {
      "text/plain": [
       "24"
      ]
     },
     "execution_count": 11,
     "metadata": {},
     "output_type": "execute_result"
    }
   ],
   "source": [
    "age"
   ]
  },
  {
   "cell_type": "code",
   "execution_count": 12,
   "id": "636f994b-fce5-4c67-9e6d-8e40374d5695",
   "metadata": {},
   "outputs": [
    {
     "data": {
      "text/plain": [
       "'Data Science'"
      ]
     },
     "execution_count": 12,
     "metadata": {},
     "output_type": "execute_result"
    }
   ],
   "source": [
    "profession"
   ]
  },
  {
   "cell_type": "code",
   "execution_count": 13,
   "id": "b8dd6a74-a8ae-430a-b18a-3d9872c7dfe8",
   "metadata": {},
   "outputs": [
    {
     "data": {
      "text/plain": [
       "('Ali Ahmed', 24, 'Data Science')"
      ]
     },
     "execution_count": 13,
     "metadata": {},
     "output_type": "execute_result"
    }
   ],
   "source": [
    "person"
   ]
  },
  {
   "cell_type": "code",
   "execution_count": 14,
   "id": "c1e6bdee-04d3-46be-9eae-c528c45b1692",
   "metadata": {},
   "outputs": [
    {
     "data": {
      "text/plain": [
       "1"
      ]
     },
     "execution_count": 14,
     "metadata": {},
     "output_type": "execute_result"
    }
   ],
   "source": [
    "person.count(24)"
   ]
  },
  {
   "cell_type": "code",
   "execution_count": 15,
   "id": "5b6235f3-4ddd-436d-85db-7d48a8bab5ea",
   "metadata": {},
   "outputs": [
    {
     "data": {
      "text/plain": [
       "0"
      ]
     },
     "execution_count": 15,
     "metadata": {},
     "output_type": "execute_result"
    }
   ],
   "source": [
    "person.index('Ali Ahmed')"
   ]
  },
  {
   "cell_type": "code",
   "execution_count": 16,
   "id": "a5a69e83-f2d4-426e-8717-880483f8acff",
   "metadata": {},
   "outputs": [
    {
     "data": {
      "text/plain": [
       "1"
      ]
     },
     "execution_count": 16,
     "metadata": {},
     "output_type": "execute_result"
    }
   ],
   "source": [
    "person.index(24)"
   ]
  },
  {
   "cell_type": "code",
   "execution_count": 20,
   "id": "be15afaf-7150-4192-84ae-13f354becff5",
   "metadata": {},
   "outputs": [
    {
     "name": "stdout",
     "output_type": "stream",
     "text": [
      "1\n"
     ]
    }
   ],
   "source": [
    "for age in person:\n",
    "    if age == 24:\n",
    "        print(person.index(age))"
   ]
  },
  {
   "cell_type": "code",
   "execution_count": null,
   "id": "2c5bc081-4134-42ab-a5e1-92b84cd66506",
   "metadata": {},
   "outputs": [],
   "source": []
  }
 ],
 "metadata": {
  "kernelspec": {
   "display_name": "Python 3 (ipykernel)",
   "language": "python",
   "name": "python3"
  },
  "language_info": {
   "codemirror_mode": {
    "name": "ipython",
    "version": 3
   },
   "file_extension": ".py",
   "mimetype": "text/x-python",
   "name": "python",
   "nbconvert_exporter": "python",
   "pygments_lexer": "ipython3",
   "version": "3.12.7"
  }
 },
 "nbformat": 4,
 "nbformat_minor": 5
}
