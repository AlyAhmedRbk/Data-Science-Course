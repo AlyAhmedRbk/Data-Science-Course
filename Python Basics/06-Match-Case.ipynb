{
 "cells": [
  {
   "cell_type": "markdown",
   "id": "4659db27-2964-43f5-9919-ab1fd296e34a",
   "metadata": {},
   "source": [
    "# Match Case in Python"
   ]
  },
  {
   "cell_type": "code",
   "execution_count": 1,
   "id": "a7672784-f38e-4d78-9741-c48808731f57",
   "metadata": {},
   "outputs": [],
   "source": [
    "code = 500"
   ]
  },
  {
   "cell_type": "code",
   "execution_count": 2,
   "id": "b642c1c5-43ae-4f85-9464-5d56f12f1025",
   "metadata": {},
   "outputs": [
    {
     "name": "stdout",
     "output_type": "stream",
     "text": [
      "Responce Internal Server Error\n"
     ]
    }
   ],
   "source": [
    "match code:\n",
    "    case 200:\n",
    "        print('Responce OK')\n",
    "    case 400:\n",
    "        print('Responce Bad Request')\n",
    "    case 404:\n",
    "        print('Responce Page not found')\n",
    "    case 500:\n",
    "        print('Responce Internal Server Error')\n",
    "\n",
    "    "
   ]
  },
  {
   "cell_type": "code",
   "execution_count": 3,
   "id": "5aabe2db-1aa3-49f7-b9b4-efe485cc8f58",
   "metadata": {},
   "outputs": [
    {
     "name": "stdout",
     "output_type": "stream",
     "text": [
      "Responce OK\n"
     ]
    }
   ],
   "source": [
    "code = 200\n",
    "\n",
    "match code:\n",
    "    case 200:\n",
    "        print('Responce OK')\n",
    "    case 400:\n",
    "        print('Responce Bad Request')\n",
    "    case 404:\n",
    "        print('Responce Page not found')\n",
    "    case 500:\n",
    "        print('Responce Internal Server Error')"
   ]
  },
  {
   "cell_type": "code",
   "execution_count": 4,
   "id": "e6b00336-cfc6-44bd-a423-5d2897d280a9",
   "metadata": {},
   "outputs": [
    {
     "name": "stdout",
     "output_type": "stream",
     "text": [
      "Responce Page not found\n"
     ]
    }
   ],
   "source": [
    "code = 404\n",
    "\n",
    "match code:\n",
    "    case 200:\n",
    "        print('Responce OK')\n",
    "    case 400:\n",
    "        print('Responce Bad Request')\n",
    "    case 404:\n",
    "        print('Responce Page not found')\n",
    "    case 500:\n",
    "        print('Responce Internal Server Error')\n"
   ]
  },
  {
   "cell_type": "code",
   "execution_count": 5,
   "id": "3313e4ac-2bb6-49b5-b1e5-d652679c9b60",
   "metadata": {},
   "outputs": [
    {
     "name": "stdout",
     "output_type": "stream",
     "text": [
      "Responce Unkown Request\n"
     ]
    }
   ],
   "source": [
    "code = 600\n",
    "\n",
    "match code:\n",
    "    case 200:\n",
    "        print('Responce OK')\n",
    "    case 400:\n",
    "        print('Responce Bad Request')\n",
    "    case 404:\n",
    "        print('Responce Page not found')\n",
    "    case 500:\n",
    "        print('Responce Internal Server Error')\n",
    "    case _:\n",
    "        print('Responce Unkown Request')"
   ]
  },
  {
   "cell_type": "code",
   "execution_count": null,
   "id": "53124830-6680-467d-a574-cd0cf25f374d",
   "metadata": {},
   "outputs": [],
   "source": []
  }
 ],
 "metadata": {
  "kernelspec": {
   "display_name": "Python 3 (ipykernel)",
   "language": "python",
   "name": "python3"
  },
  "language_info": {
   "codemirror_mode": {
    "name": "ipython",
    "version": 3
   },
   "file_extension": ".py",
   "mimetype": "text/x-python",
   "name": "python",
   "nbconvert_exporter": "python",
   "pygments_lexer": "ipython3",
   "version": "3.12.7"
  }
 },
 "nbformat": 4,
 "nbformat_minor": 5
}
