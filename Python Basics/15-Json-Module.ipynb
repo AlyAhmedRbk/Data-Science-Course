{
 "cells": [
  {
   "cell_type": "markdown",
   "id": "a4d6f00f-d35c-4bff-98d0-67e83ae5e78a",
   "metadata": {},
   "source": [
    "# JSON Module in Python"
   ]
  },
  {
   "cell_type": "code",
   "execution_count": 1,
   "id": "626612ad-863b-4b59-adda-ffa428c2d968",
   "metadata": {},
   "outputs": [],
   "source": [
    "import json"
   ]
  },
  {
   "cell_type": "code",
   "execution_count": 3,
   "id": "50c17dcb-7bc7-48f2-b6f2-38816eb35b5b",
   "metadata": {},
   "outputs": [],
   "source": [
    "obj = { 'Name' : 'Ali Ahmed', 'Comapny' : 'Google', 'Salary' : '100000' }\n",
    "s = json.dumps(obj)"
   ]
  },
  {
   "cell_type": "code",
   "execution_count": 4,
   "id": "2d4d0e01-ad0c-4d06-866b-eac736d46464",
   "metadata": {},
   "outputs": [
    {
     "data": {
      "text/plain": [
       "'{\"Name\": \"Ali Ahmed\", \"Comapny\": \"Google\", \"Salary\": \"100000\"}'"
      ]
     },
     "execution_count": 4,
     "metadata": {},
     "output_type": "execute_result"
    }
   ],
   "source": [
    "s"
   ]
  },
  {
   "cell_type": "code",
   "execution_count": 5,
   "id": "0c11af5a-b298-44e5-a56b-8a90fee41eba",
   "metadata": {},
   "outputs": [
    {
     "data": {
      "text/plain": [
       "str"
      ]
     },
     "execution_count": 5,
     "metadata": {},
     "output_type": "execute_result"
    }
   ],
   "source": [
    "type(s)"
   ]
  },
  {
   "cell_type": "code",
   "execution_count": 6,
   "id": "76bce8c8-d9d5-46a8-8737-c4f5cff20880",
   "metadata": {},
   "outputs": [],
   "source": [
    "d = json.loads(s)"
   ]
  },
  {
   "cell_type": "code",
   "execution_count": 7,
   "id": "0feba93d-0237-43ef-994e-985b754f9aed",
   "metadata": {},
   "outputs": [
    {
     "data": {
      "text/plain": [
       "{'Name': 'Ali Ahmed', 'Comapny': 'Google', 'Salary': '100000'}"
      ]
     },
     "execution_count": 7,
     "metadata": {},
     "output_type": "execute_result"
    }
   ],
   "source": [
    "d"
   ]
  },
  {
   "cell_type": "code",
   "execution_count": 8,
   "id": "8bb94253-fb10-492f-ae35-9d8650eb0caf",
   "metadata": {},
   "outputs": [
    {
     "data": {
      "text/plain": [
       "dict"
      ]
     },
     "execution_count": 8,
     "metadata": {},
     "output_type": "execute_result"
    }
   ],
   "source": [
    "type(d)"
   ]
  },
  {
   "cell_type": "code",
   "execution_count": 9,
   "id": "31b4582b-4ee0-4b09-b196-775e35edd59a",
   "metadata": {},
   "outputs": [],
   "source": [
    "file = open('data.json', 'w')"
   ]
  },
  {
   "cell_type": "code",
   "execution_count": 10,
   "id": "184b7d04-6928-45be-a5f4-b41a7db32a48",
   "metadata": {},
   "outputs": [],
   "source": [
    "json.dump(obj, file)"
   ]
  },
  {
   "cell_type": "code",
   "execution_count": 11,
   "id": "b3cd9e6a-6807-4d9d-8df7-160c0c19247b",
   "metadata": {},
   "outputs": [
    {
     "data": {
      "text/plain": [
       "{'Name': 'Ali Ahmed', 'Comapny': 'Google', 'Salary': '100000'}"
      ]
     },
     "execution_count": 11,
     "metadata": {},
     "output_type": "execute_result"
    }
   ],
   "source": [
    "obj"
   ]
  },
  {
   "cell_type": "code",
   "execution_count": 12,
   "id": "0c52228c-09ca-48da-b701-16e6e703b76f",
   "metadata": {},
   "outputs": [],
   "source": [
    "file.close()"
   ]
  },
  {
   "cell_type": "code",
   "execution_count": null,
   "id": "db73e0e6-be51-467a-9ed6-42c136f7db7b",
   "metadata": {},
   "outputs": [],
   "source": []
  }
 ],
 "metadata": {
  "kernelspec": {
   "display_name": "Python 3 (ipykernel)",
   "language": "python",
   "name": "python3"
  },
  "language_info": {
   "codemirror_mode": {
    "name": "ipython",
    "version": 3
   },
   "file_extension": ".py",
   "mimetype": "text/x-python",
   "name": "python",
   "nbconvert_exporter": "python",
   "pygments_lexer": "ipython3",
   "version": "3.12.7"
  }
 },
 "nbformat": 4,
 "nbformat_minor": 5
}
