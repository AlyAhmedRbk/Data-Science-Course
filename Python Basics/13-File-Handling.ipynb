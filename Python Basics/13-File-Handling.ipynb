{
 "cells": [
  {
   "cell_type": "markdown",
   "id": "bf5512c8-2957-4825-b0a3-63c32becd37b",
   "metadata": {},
   "source": [
    "# File Handling in Python"
   ]
  },
  {
   "cell_type": "code",
   "execution_count": 1,
   "id": "7cf53a8b-8f6a-42d4-a1e5-d98a63324dde",
   "metadata": {},
   "outputs": [],
   "source": [
    "file = open('text.txt', 'r')"
   ]
  },
  {
   "cell_type": "code",
   "execution_count": 2,
   "id": "d3e2c05a-4f6e-4cf1-97fc-53b98b615de8",
   "metadata": {},
   "outputs": [
    {
     "data": {
      "text/plain": [
       "'Hello from text File'"
      ]
     },
     "execution_count": 2,
     "metadata": {},
     "output_type": "execute_result"
    }
   ],
   "source": [
    "file.read()"
   ]
  },
  {
   "cell_type": "code",
   "execution_count": 3,
   "id": "2eca9537-cc29-40c5-8e69-a9b0214f018e",
   "metadata": {},
   "outputs": [],
   "source": [
    "string = 'This is a nice way to learn data science'"
   ]
  },
  {
   "cell_type": "code",
   "execution_count": 4,
   "id": "1c91f3bc-765a-4483-ad6e-588e74fe2cdc",
   "metadata": {},
   "outputs": [],
   "source": [
    "file.close()"
   ]
  },
  {
   "cell_type": "code",
   "execution_count": 5,
   "id": "9a8a963e-f692-4ec8-bd8d-84fcfaac9452",
   "metadata": {},
   "outputs": [],
   "source": [
    "file = open('ali.txt', 'w')"
   ]
  },
  {
   "cell_type": "code",
   "execution_count": 6,
   "id": "8f720935-c271-4bb8-b0d8-74b8f3941e48",
   "metadata": {},
   "outputs": [
    {
     "data": {
      "text/plain": [
       "40"
      ]
     },
     "execution_count": 6,
     "metadata": {},
     "output_type": "execute_result"
    }
   ],
   "source": [
    "file.write(string)"
   ]
  },
  {
   "cell_type": "code",
   "execution_count": 7,
   "id": "6e9df9c8-ee28-45bc-9e00-08baa4c9cde9",
   "metadata": {},
   "outputs": [],
   "source": [
    "file.close()"
   ]
  },
  {
   "cell_type": "code",
   "execution_count": 8,
   "id": "4bc4cc32-eeab-4455-81ad-8fa467752feb",
   "metadata": {},
   "outputs": [
    {
     "name": "stdout",
     "output_type": "stream",
     "text": [
      "Hello from text File\n"
     ]
    }
   ],
   "source": [
    "with open('text.txt', 'r') as file:\n",
    "    content = file.read()\n",
    "    print(content)"
   ]
  },
  {
   "cell_type": "code",
   "execution_count": 15,
   "id": "98d69c74-f793-49e1-9c74-957b2c065005",
   "metadata": {},
   "outputs": [],
   "source": [
    "with open('test.txt', 'a') as f:\n",
    "    content = '\\nThis is a test file'\n",
    "    f.write(content)"
   ]
  },
  {
   "cell_type": "code",
   "execution_count": null,
   "id": "26446968-643c-466d-a124-dbc01dd19116",
   "metadata": {},
   "outputs": [],
   "source": []
  }
 ],
 "metadata": {
  "kernelspec": {
   "display_name": "Python 3 (ipykernel)",
   "language": "python",
   "name": "python3"
  },
  "language_info": {
   "codemirror_mode": {
    "name": "ipython",
    "version": 3
   },
   "file_extension": ".py",
   "mimetype": "text/x-python",
   "name": "python",
   "nbconvert_exporter": "python",
   "pygments_lexer": "ipython3",
   "version": "3.12.7"
  }
 },
 "nbformat": 4,
 "nbformat_minor": 5
}
