{
 "cells": [
  {
   "cell_type": "markdown",
   "id": "445dfb7f-58e0-4f5f-96fa-d3743edce3f3",
   "metadata": {},
   "source": [
    "# Multidimensional Indexing and Axis using numpy"
   ]
  },
  {
   "cell_type": "code",
   "execution_count": 1,
   "id": "dab74ded-6291-446c-9d06-e26c377522e9",
   "metadata": {},
   "outputs": [],
   "source": [
    "import numpy as np"
   ]
  },
  {
   "cell_type": "code",
   "execution_count": 7,
   "id": "8f1c652e-6a33-477f-b1b9-0aa44b2162a9",
   "metadata": {},
   "outputs": [],
   "source": [
    "arr = np.array([[1, 2, 3],\n",
    "               [4, 5, 6], \n",
    "               [7, 8, 9]])"
   ]
  },
  {
   "cell_type": "code",
   "execution_count": 8,
   "id": "cf59bdb6-86db-47ee-b960-30b7967f0d02",
   "metadata": {},
   "outputs": [
    {
     "data": {
      "text/plain": [
       "array([[1, 2, 3],\n",
       "       [4, 5, 6],\n",
       "       [7, 8, 9]])"
      ]
     },
     "execution_count": 8,
     "metadata": {},
     "output_type": "execute_result"
    }
   ],
   "source": [
    "arr"
   ]
  },
  {
   "cell_type": "code",
   "execution_count": 9,
   "id": "909d3890-27a0-4f37-a829-8a13b22c9f9b",
   "metadata": {},
   "outputs": [
    {
     "data": {
      "text/plain": [
       "array([1, 2, 3])"
      ]
     },
     "execution_count": 9,
     "metadata": {},
     "output_type": "execute_result"
    }
   ],
   "source": [
    "arr[0]"
   ]
  },
  {
   "cell_type": "code",
   "execution_count": 10,
   "id": "b6664397-4ec4-4ffe-b582-ab5cc87a5f86",
   "metadata": {},
   "outputs": [
    {
     "data": {
      "text/plain": [
       "array([4, 5, 6])"
      ]
     },
     "execution_count": 10,
     "metadata": {},
     "output_type": "execute_result"
    }
   ],
   "source": [
    "arr[1]"
   ]
  },
  {
   "cell_type": "code",
   "execution_count": 11,
   "id": "5f322cdf-4f74-4fc4-99d1-3c84ed8eddbe",
   "metadata": {},
   "outputs": [
    {
     "data": {
      "text/plain": [
       "3"
      ]
     },
     "execution_count": 11,
     "metadata": {},
     "output_type": "execute_result"
    }
   ],
   "source": [
    "arr[0][2]"
   ]
  },
  {
   "cell_type": "code",
   "execution_count": 12,
   "id": "c33b627d-e5c5-47d7-b59d-de29dcf454df",
   "metadata": {},
   "outputs": [
    {
     "data": {
      "text/plain": [
       "array([12, 15, 18])"
      ]
     },
     "execution_count": 12,
     "metadata": {},
     "output_type": "execute_result"
    }
   ],
   "source": [
    "np.sum(arr, axis=0)"
   ]
  },
  {
   "cell_type": "code",
   "execution_count": 13,
   "id": "078d064f-05f9-442d-822f-57b894f5c929",
   "metadata": {},
   "outputs": [
    {
     "data": {
      "text/plain": [
       "array([ 6, 15, 24])"
      ]
     },
     "execution_count": 13,
     "metadata": {},
     "output_type": "execute_result"
    }
   ],
   "source": [
    "np.sum(arr, axis=1)"
   ]
  },
  {
   "cell_type": "code",
   "execution_count": 14,
   "id": "72290b6d-7b41-42ab-b076-68507ffb6dab",
   "metadata": {},
   "outputs": [
    {
     "data": {
      "text/plain": [
       "3"
      ]
     },
     "execution_count": 14,
     "metadata": {},
     "output_type": "execute_result"
    }
   ],
   "source": [
    "arr[0, 2]"
   ]
  },
  {
   "cell_type": "code",
   "execution_count": 15,
   "id": "21eea0cb-1347-46df-ae96-e6b4e0daab0b",
   "metadata": {},
   "outputs": [
    {
     "data": {
      "text/plain": [
       "array([[2],\n",
       "       [5],\n",
       "       [8]])"
      ]
     },
     "execution_count": 15,
     "metadata": {},
     "output_type": "execute_result"
    }
   ],
   "source": [
    "arr[0:3, 1:2]"
   ]
  },
  {
   "cell_type": "code",
   "execution_count": 18,
   "id": "513f4650-21ff-41dc-907b-d7dbb33c795b",
   "metadata": {},
   "outputs": [
    {
     "data": {
      "text/plain": [
       "array([[1, 2, 3],\n",
       "       [4, 5, 6],\n",
       "       [7, 8, 9]])"
      ]
     },
     "execution_count": 18,
     "metadata": {},
     "output_type": "execute_result"
    }
   ],
   "source": [
    "arr[0:3, 0:3]"
   ]
  },
  {
   "cell_type": "code",
   "execution_count": 19,
   "id": "8ec4f2f4-4d37-46c5-8166-76977d3f4a54",
   "metadata": {},
   "outputs": [
    {
     "data": {
      "text/plain": [
       "array([[2, 3],\n",
       "       [5, 6],\n",
       "       [8, 9]])"
      ]
     },
     "execution_count": 19,
     "metadata": {},
     "output_type": "execute_result"
    }
   ],
   "source": [
    "arr[0:3, 1:3]"
   ]
  },
  {
   "cell_type": "code",
   "execution_count": 20,
   "id": "2485f81f-2c26-46ad-8fc4-c034bf4360fb",
   "metadata": {},
   "outputs": [
    {
     "data": {
      "text/plain": [
       "array([[2, 3],\n",
       "       [5, 6]])"
      ]
     },
     "execution_count": 20,
     "metadata": {},
     "output_type": "execute_result"
    }
   ],
   "source": [
    "arr[0:2, 1:3]"
   ]
  },
  {
   "cell_type": "code",
   "execution_count": null,
   "id": "22b738c0-ddd5-41d5-9f3d-dc02f34c99f4",
   "metadata": {},
   "outputs": [],
   "source": []
  }
 ],
 "metadata": {
  "kernelspec": {
   "display_name": "Python 3 (ipykernel)",
   "language": "python",
   "name": "python3"
  },
  "language_info": {
   "codemirror_mode": {
    "name": "ipython",
    "version": 3
   },
   "file_extension": ".py",
   "mimetype": "text/x-python",
   "name": "python",
   "nbconvert_exporter": "python",
   "pygments_lexer": "ipython3",
   "version": "3.12.7"
  }
 },
 "nbformat": 4,
 "nbformat_minor": 5
}
