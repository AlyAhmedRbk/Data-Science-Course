{
 "cells": [
  {
   "cell_type": "markdown",
   "id": "3a137ccc-763b-42d5-9fa9-de07d37300b0",
   "metadata": {},
   "source": [
    "# Broadcasting in numpy"
   ]
  },
  {
   "cell_type": "code",
   "execution_count": 1,
   "id": "e6189228-1699-4cdb-8129-6c57100a2fa0",
   "metadata": {},
   "outputs": [
    {
     "name": "stdout",
     "output_type": "stream",
     "text": [
      "[1, 4, 9, 16, 25]\n"
     ]
    }
   ],
   "source": [
    "import numpy as np\n",
    "\n",
    "arr = np.array([1,2,3,4,5])\n",
    "\n",
    "result = []\n",
    "\n",
    "for num in arr:\n",
    "    result.append( num ** 2 )\n",
    "\n",
    "print(result)"
   ]
  },
  {
   "cell_type": "code",
   "execution_count": 3,
   "id": "44c5520d-7cc5-4442-bc70-ea340cc95900",
   "metadata": {},
   "outputs": [],
   "source": [
    "# Vacatorizing Operation\n",
    "arr = np.array([1,2,3,4,5])\n",
    "result = arr ** 10"
   ]
  },
  {
   "cell_type": "code",
   "execution_count": 4,
   "id": "74017079-8cea-49c2-8f30-dfe8df104f80",
   "metadata": {},
   "outputs": [
    {
     "data": {
      "text/plain": [
       "array([      1,    1024,   59049, 1048576, 9765625])"
      ]
     },
     "execution_count": 4,
     "metadata": {},
     "output_type": "execute_result"
    }
   ],
   "source": [
    "result"
   ]
  },
  {
   "cell_type": "code",
   "execution_count": 6,
   "id": "e5e8f5f2-ebfb-41a8-943d-b4bd6db08661",
   "metadata": {},
   "outputs": [],
   "source": [
    "# Vacatorizing Operation\n",
    "arr = np.array([1,2,3,4,5])\n",
    "result = arr ** 3"
   ]
  },
  {
   "cell_type": "code",
   "execution_count": 7,
   "id": "5340d2c5-f7b2-484d-9c4c-6e70eb42ada4",
   "metadata": {},
   "outputs": [
    {
     "data": {
      "text/plain": [
       "array([  1,   8,  27,  64, 125])"
      ]
     },
     "execution_count": 7,
     "metadata": {},
     "output_type": "execute_result"
    }
   ],
   "source": [
    "result"
   ]
  },
  {
   "cell_type": "code",
   "execution_count": 8,
   "id": "e42eed23-eb8d-48ff-b2af-50d63552b2ed",
   "metadata": {},
   "outputs": [
    {
     "data": {
      "text/plain": [
       "array([ 11,  18,  37,  74, 135])"
      ]
     },
     "execution_count": 8,
     "metadata": {},
     "output_type": "execute_result"
    }
   ],
   "source": [
    "result + 10"
   ]
  },
  {
   "cell_type": "code",
   "execution_count": 12,
   "id": "bf622f46-9948-4f22-8814-852edd0e88f3",
   "metadata": {},
   "outputs": [
    {
     "name": "stdout",
     "output_type": "stream",
     "text": [
      "[[2 4 6]\n",
      " [5 7 9]]\n"
     ]
    }
   ],
   "source": [
    "arr1 = np.array([[1,2,3], [4,5,6]])\n",
    "arr2 = np.array([1,2,3])\n",
    "\n",
    "result = arr1 + arr2 #Boradcasting arr2 accross arr1\n",
    "print(result)"
   ]
  },
  {
   "cell_type": "code",
   "execution_count": 18,
   "id": "f5218e52-878b-4b80-92cc-e692c21156c4",
   "metadata": {},
   "outputs": [
    {
     "name": "stdout",
     "output_type": "stream",
     "text": [
      "[[-1.41421356 -1.41421356 -1.41421356]\n",
      " [-0.70710678 -0.70710678 -0.70710678]\n",
      " [ 0.          0.          0.        ]\n",
      " [ 0.70710678  0.70710678  0.70710678]\n",
      " [ 1.41421356  1.41421356  1.41421356]]\n"
     ]
    }
   ],
   "source": [
    "# Example of broadcasting Normalization (Statistics)\n",
    "\n",
    "# Simulating a dataset (5 samples, 3 features)\n",
    "data = np.array([[10, 20, 30],\n",
    "                  [15, 25, 35],\n",
    "                  [20, 30, 40],\n",
    "                  [25, 35, 45],\n",
    "                  [30, 40, 50],\n",
    "                ])\n",
    "\n",
    "# Calculating the mean and standard deviation for each feature\n",
    "mean = data.mean(axis=0)\n",
    "std = data.std(axis=0)\n",
    "\n",
    "# normalizing the data using broadcasting \n",
    "normalized_data = (data - mean ) / std\n",
    "\n",
    "print(normalized_data)"
   ]
  },
  {
   "cell_type": "code",
   "execution_count": null,
   "id": "259c08f0-4f73-46bd-a4e6-5d729ce3c2b1",
   "metadata": {},
   "outputs": [],
   "source": []
  }
 ],
 "metadata": {
  "kernelspec": {
   "display_name": "Python 3 (ipykernel)",
   "language": "python",
   "name": "python3"
  },
  "language_info": {
   "codemirror_mode": {
    "name": "ipython",
    "version": 3
   },
   "file_extension": ".py",
   "mimetype": "text/x-python",
   "name": "python",
   "nbconvert_exporter": "python",
   "pygments_lexer": "ipython3",
   "version": "3.12.7"
  }
 },
 "nbformat": 4,
 "nbformat_minor": 5
}
