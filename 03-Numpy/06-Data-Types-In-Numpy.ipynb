{
 "cells": [
  {
   "cell_type": "markdown",
   "id": "45c32e50-bfd6-4cea-af7c-fc5506e9edeb",
   "metadata": {},
   "source": [
    "# Data Types in numpy"
   ]
  },
  {
   "cell_type": "code",
   "execution_count": 1,
   "id": "fcd469b4-3086-4939-94fd-2df9ecb5fda2",
   "metadata": {},
   "outputs": [],
   "source": [
    "import numpy as np"
   ]
  },
  {
   "cell_type": "code",
   "execution_count": 9,
   "id": "7b39fcc2-39d2-4252-a12c-afd936f78cbb",
   "metadata": {},
   "outputs": [],
   "source": [
    "arr = np.array([23, 5, 42, 19])"
   ]
  },
  {
   "cell_type": "code",
   "execution_count": 10,
   "id": "2647020c-7ee4-4e04-82fd-c25c8c137ea4",
   "metadata": {},
   "outputs": [
    {
     "data": {
      "text/plain": [
       "dtype('int64')"
      ]
     },
     "execution_count": 10,
     "metadata": {},
     "output_type": "execute_result"
    }
   ],
   "source": [
    "arr.dtype"
   ]
  },
  {
   "cell_type": "code",
   "execution_count": 4,
   "id": "8103eced-6561-46df-82da-bca7388c110c",
   "metadata": {},
   "outputs": [
    {
     "data": {
      "text/plain": [
       "array([23.,  5., 42., 19.])"
      ]
     },
     "execution_count": 4,
     "metadata": {},
     "output_type": "execute_result"
    }
   ],
   "source": [
    "arr.astype('float64')"
   ]
  },
  {
   "cell_type": "code",
   "execution_count": 5,
   "id": "0ce08245-f836-4f7a-a1ca-59b3e4f997cd",
   "metadata": {},
   "outputs": [
    {
     "data": {
      "text/plain": [
       "array([23,  5, 42, 19])"
      ]
     },
     "execution_count": 5,
     "metadata": {},
     "output_type": "execute_result"
    }
   ],
   "source": [
    "arr"
   ]
  },
  {
   "cell_type": "code",
   "execution_count": 6,
   "id": "d51e67e0-8343-42aa-9d84-979cd09a83e1",
   "metadata": {},
   "outputs": [
    {
     "data": {
      "text/plain": [
       "dtype('int64')"
      ]
     },
     "execution_count": 6,
     "metadata": {},
     "output_type": "execute_result"
    }
   ],
   "source": [
    "arr.dtype"
   ]
  },
  {
   "cell_type": "code",
   "execution_count": 15,
   "id": "d3cae516-805a-4f4b-9999-ad934ec4c93e",
   "metadata": {},
   "outputs": [],
   "source": [
    "arr2 = np.array([23, 5, 42, 19], dtype='float32')"
   ]
  },
  {
   "cell_type": "code",
   "execution_count": 16,
   "id": "9f559074-bac7-41c5-968b-ad0bf6cbcb2b",
   "metadata": {},
   "outputs": [
    {
     "data": {
      "text/plain": [
       "array([23.,  5., 42., 19.], dtype=float32)"
      ]
     },
     "execution_count": 16,
     "metadata": {},
     "output_type": "execute_result"
    }
   ],
   "source": [
    "arr2"
   ]
  },
  {
   "cell_type": "code",
   "execution_count": 17,
   "id": "b69b1e23-d038-4c76-ba79-033349f891c7",
   "metadata": {},
   "outputs": [
    {
     "data": {
      "text/plain": [
       "32"
      ]
     },
     "execution_count": 17,
     "metadata": {},
     "output_type": "execute_result"
    }
   ],
   "source": [
    "arr.nbytes"
   ]
  },
  {
   "cell_type": "code",
   "execution_count": 18,
   "id": "456c1bc9-8a60-4908-b0f2-ec40c77f47e9",
   "metadata": {},
   "outputs": [
    {
     "data": {
      "text/plain": [
       "16"
      ]
     },
     "execution_count": 18,
     "metadata": {},
     "output_type": "execute_result"
    }
   ],
   "source": [
    "arr2.nbytes"
   ]
  },
  {
   "cell_type": "code",
   "execution_count": null,
   "id": "3d99bf8f-4c46-4d6b-bc57-66afcec88feb",
   "metadata": {},
   "outputs": [],
   "source": []
  }
 ],
 "metadata": {
  "kernelspec": {
   "display_name": "Python 3 (ipykernel)",
   "language": "python",
   "name": "python3"
  },
  "language_info": {
   "codemirror_mode": {
    "name": "ipython",
    "version": 3
   },
   "file_extension": ".py",
   "mimetype": "text/x-python",
   "name": "python",
   "nbconvert_exporter": "python",
   "pygments_lexer": "ipython3",
   "version": "3.12.7"
  }
 },
 "nbformat": 4,
 "nbformat_minor": 5
}
