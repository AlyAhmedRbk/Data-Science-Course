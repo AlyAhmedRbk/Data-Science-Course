{
 "cells": [
  {
   "cell_type": "code",
   "execution_count": 1,
   "id": "c11a2f6d-3a0d-4a0a-aa7c-c01ddbce8138",
   "metadata": {},
   "outputs": [],
   "source": [
    "import numpy as np"
   ]
  },
  {
   "cell_type": "code",
   "execution_count": 2,
   "id": "629c5621-0eb1-4249-b538-3e875a35cd19",
   "metadata": {},
   "outputs": [],
   "source": [
    "arr = np.array([[1,3,4], [2,5,6], [7,8,9], [11,12,13]])"
   ]
  },
  {
   "cell_type": "code",
   "execution_count": 3,
   "id": "8de80fa2-3a6a-49fc-abf7-a72ffd9f729f",
   "metadata": {},
   "outputs": [
    {
     "data": {
      "text/plain": [
       "array([[ 1,  3,  4],\n",
       "       [ 2,  5,  6],\n",
       "       [ 7,  8,  9],\n",
       "       [11, 12, 13]])"
      ]
     },
     "execution_count": 3,
     "metadata": {},
     "output_type": "execute_result"
    }
   ],
   "source": [
    "arr"
   ]
  },
  {
   "cell_type": "code",
   "execution_count": 4,
   "id": "1a31399e-c41e-402c-b277-3a1efe759ccd",
   "metadata": {},
   "outputs": [
    {
     "name": "stdout",
     "output_type": "stream",
     "text": [
      "[1 3 4]\n"
     ]
    }
   ],
   "source": [
    "print(arr[0])"
   ]
  },
  {
   "cell_type": "code",
   "execution_count": 5,
   "id": "79943ec0-dd19-4329-93b5-f31e372cb6d5",
   "metadata": {},
   "outputs": [
    {
     "name": "stdout",
     "output_type": "stream",
     "text": [
      "1\n"
     ]
    }
   ],
   "source": [
    "print(arr[0][0])"
   ]
  },
  {
   "cell_type": "code",
   "execution_count": 6,
   "id": "c78a37c2-677e-4e92-acb9-cbe7f5518218",
   "metadata": {},
   "outputs": [
    {
     "name": "stdout",
     "output_type": "stream",
     "text": [
      "[1 3 4]\n",
      "[2 5 6]\n",
      "[7 8 9]\n",
      "[11 12 13]\n"
     ]
    }
   ],
   "source": [
    "for i in arr:\n",
    "    print(i)"
   ]
  },
  {
   "cell_type": "code",
   "execution_count": 8,
   "id": "a1958e61-cc37-4190-93a3-9183c3a5478e",
   "metadata": {},
   "outputs": [
    {
     "name": "stdout",
     "output_type": "stream",
     "text": [
      "1\n",
      "3\n",
      "4\n",
      "2\n",
      "5\n",
      "6\n",
      "7\n",
      "8\n",
      "9\n",
      "11\n",
      "12\n",
      "13\n"
     ]
    }
   ],
   "source": [
    "for i in arr:\n",
    "    for t in i:\n",
    "        print(t)"
   ]
  },
  {
   "cell_type": "code",
   "execution_count": 9,
   "id": "d6a80de0-8ba1-42ee-a082-5c074c82f101",
   "metadata": {},
   "outputs": [],
   "source": [
    "flat = arr.flatten()"
   ]
  },
  {
   "cell_type": "code",
   "execution_count": 10,
   "id": "bc77f580-8335-41c9-b6e4-ff7c40891a5e",
   "metadata": {},
   "outputs": [
    {
     "data": {
      "text/plain": [
       "array([ 1,  3,  4,  2,  5,  6,  7,  8,  9, 11, 12, 13])"
      ]
     },
     "execution_count": 10,
     "metadata": {},
     "output_type": "execute_result"
    }
   ],
   "source": [
    "flat"
   ]
  },
  {
   "cell_type": "code",
   "execution_count": 11,
   "id": "ef4c5aa4-d26f-4243-addc-d2cf1f517672",
   "metadata": {},
   "outputs": [
    {
     "data": {
      "text/plain": [
       "array([1, 3, 4])"
      ]
     },
     "execution_count": 11,
     "metadata": {},
     "output_type": "execute_result"
    }
   ],
   "source": [
    "flat[0:3]"
   ]
  },
  {
   "cell_type": "code",
   "execution_count": 12,
   "id": "7d861615-ccd7-4413-aecf-4ea4053c4733",
   "metadata": {},
   "outputs": [
    {
     "data": {
      "text/plain": [
       "array([2, 5, 6])"
      ]
     },
     "execution_count": 12,
     "metadata": {},
     "output_type": "execute_result"
    }
   ],
   "source": [
    "flat[3:6]"
   ]
  },
  {
   "cell_type": "code",
   "execution_count": 13,
   "id": "ffeefbca-4ee8-49f6-9a36-06fc9e38b3be",
   "metadata": {},
   "outputs": [
    {
     "data": {
      "text/plain": [
       "array([1, 3, 4, 2, 5])"
      ]
     },
     "execution_count": 13,
     "metadata": {},
     "output_type": "execute_result"
    }
   ],
   "source": [
    "flat[:5]"
   ]
  },
  {
   "cell_type": "code",
   "execution_count": 18,
   "id": "6fe5bf6d-8da7-4f71-93d9-ffddb2235907",
   "metadata": {},
   "outputs": [
    {
     "data": {
      "text/plain": [
       "array([ 7,  8,  9, 11, 12])"
      ]
     },
     "execution_count": 18,
     "metadata": {},
     "output_type": "execute_result"
    }
   ],
   "source": [
    "flat[-6:-1]"
   ]
  },
  {
   "cell_type": "code",
   "execution_count": 19,
   "id": "7acede4d-d93d-48c8-8378-bef0bf893e32",
   "metadata": {},
   "outputs": [
    {
     "data": {
      "text/plain": [
       "array([ 1,  4,  5,  7,  9, 12])"
      ]
     },
     "execution_count": 19,
     "metadata": {},
     "output_type": "execute_result"
    }
   ],
   "source": [
    "flat[::2]"
   ]
  },
  {
   "cell_type": "code",
   "execution_count": 20,
   "id": "b57c5a53-e348-43e0-807b-18bd70cd01ed",
   "metadata": {},
   "outputs": [
    {
     "data": {
      "text/plain": [
       "array([ 1,  3,  4,  2,  5,  6,  7,  8,  9, 11, 12, 13])"
      ]
     },
     "execution_count": 20,
     "metadata": {},
     "output_type": "execute_result"
    }
   ],
   "source": [
    "flat"
   ]
  },
  {
   "cell_type": "code",
   "execution_count": 22,
   "id": "98b308da-bb9e-48ed-b704-d5aafa4e2d1c",
   "metadata": {},
   "outputs": [],
   "source": [
    "b = arr[3:5]"
   ]
  },
  {
   "cell_type": "code",
   "execution_count": 23,
   "id": "786679ef-2d31-46fa-ab1c-353f09c45994",
   "metadata": {},
   "outputs": [
    {
     "data": {
      "text/plain": [
       "array([[11, 12, 13]])"
      ]
     },
     "execution_count": 23,
     "metadata": {},
     "output_type": "execute_result"
    }
   ],
   "source": [
    "b"
   ]
  },
  {
   "cell_type": "code",
   "execution_count": 24,
   "id": "e47940ea-47b2-4ba9-87e4-2eaf3cd0deaf",
   "metadata": {},
   "outputs": [],
   "source": [
    "b[0] = 3333"
   ]
  },
  {
   "cell_type": "code",
   "execution_count": 25,
   "id": "7ce3e2dd-4421-412c-85d7-aefd8f39fa23",
   "metadata": {},
   "outputs": [
    {
     "data": {
      "text/plain": [
       "array([[3333, 3333, 3333]])"
      ]
     },
     "execution_count": 25,
     "metadata": {},
     "output_type": "execute_result"
    }
   ],
   "source": [
    "b"
   ]
  },
  {
   "cell_type": "code",
   "execution_count": 26,
   "id": "97c5dc10-280a-4104-ba4d-5f1b7db6fbc4",
   "metadata": {},
   "outputs": [
    {
     "data": {
      "text/plain": [
       "array([[   1,    3,    4],\n",
       "       [   2,    5,    6],\n",
       "       [   7,    8,    9],\n",
       "       [3333, 3333, 3333]])"
      ]
     },
     "execution_count": 26,
     "metadata": {},
     "output_type": "execute_result"
    }
   ],
   "source": [
    "arr"
   ]
  },
  {
   "cell_type": "code",
   "execution_count": 27,
   "id": "7bad1179-f899-45ea-864a-2faf42754b28",
   "metadata": {},
   "outputs": [],
   "source": [
    "arr[3] = 24"
   ]
  },
  {
   "cell_type": "code",
   "execution_count": 28,
   "id": "e00319a9-820c-49cb-8ac9-75fcb738e592",
   "metadata": {},
   "outputs": [
    {
     "data": {
      "text/plain": [
       "array([[ 1,  3,  4],\n",
       "       [ 2,  5,  6],\n",
       "       [ 7,  8,  9],\n",
       "       [24, 24, 24]])"
      ]
     },
     "execution_count": 28,
     "metadata": {},
     "output_type": "execute_result"
    }
   ],
   "source": [
    "arr\n"
   ]
  },
  {
   "cell_type": "code",
   "execution_count": 29,
   "id": "cbda5b89-5f7e-417d-8ee1-98aead232f9d",
   "metadata": {},
   "outputs": [],
   "source": [
    "b = flat[2:5]"
   ]
  },
  {
   "cell_type": "code",
   "execution_count": 30,
   "id": "4d40d078-9c3e-45ec-b025-ee8cd75fed06",
   "metadata": {},
   "outputs": [
    {
     "data": {
      "text/plain": [
       "array([4, 2, 5])"
      ]
     },
     "execution_count": 30,
     "metadata": {},
     "output_type": "execute_result"
    }
   ],
   "source": [
    "b"
   ]
  },
  {
   "cell_type": "code",
   "execution_count": 31,
   "id": "e158cf59-a53e-4184-a27e-228abfe5654c",
   "metadata": {},
   "outputs": [],
   "source": [
    "b[0] = 24"
   ]
  },
  {
   "cell_type": "code",
   "execution_count": 32,
   "id": "ae667b6a-941e-4886-82d6-3887ef91407a",
   "metadata": {},
   "outputs": [
    {
     "data": {
      "text/plain": [
       "array([24,  2,  5])"
      ]
     },
     "execution_count": 32,
     "metadata": {},
     "output_type": "execute_result"
    }
   ],
   "source": [
    "b"
   ]
  },
  {
   "cell_type": "code",
   "execution_count": 33,
   "id": "bb908412-9b4b-4de3-a0f2-3451aee70692",
   "metadata": {},
   "outputs": [
    {
     "data": {
      "text/plain": [
       "array([ 1,  3, 24,  2,  5,  6,  7,  8,  9, 11, 12, 13])"
      ]
     },
     "execution_count": 33,
     "metadata": {},
     "output_type": "execute_result"
    }
   ],
   "source": [
    "flat"
   ]
  },
  {
   "cell_type": "code",
   "execution_count": 37,
   "id": "958c60f2-cb6c-48f6-90fc-bcbc2abb5ad9",
   "metadata": {},
   "outputs": [],
   "source": [
    "b = flat[5:8].copy()"
   ]
  },
  {
   "cell_type": "code",
   "execution_count": 38,
   "id": "ed355808-318a-49af-bab6-e49513d2fc08",
   "metadata": {},
   "outputs": [
    {
     "data": {
      "text/plain": [
       "array([6, 7, 8])"
      ]
     },
     "execution_count": 38,
     "metadata": {},
     "output_type": "execute_result"
    }
   ],
   "source": [
    "b"
   ]
  },
  {
   "cell_type": "code",
   "execution_count": 39,
   "id": "8310a185-37c0-457a-bcf3-11501551cbec",
   "metadata": {},
   "outputs": [],
   "source": [
    "b[0] = 100"
   ]
  },
  {
   "cell_type": "code",
   "execution_count": 40,
   "id": "2853103e-c96d-4bf4-b4ae-94ba0b0933cd",
   "metadata": {},
   "outputs": [
    {
     "data": {
      "text/plain": [
       "array([100,   7,   8])"
      ]
     },
     "execution_count": 40,
     "metadata": {},
     "output_type": "execute_result"
    }
   ],
   "source": [
    "b"
   ]
  },
  {
   "cell_type": "code",
   "execution_count": 41,
   "id": "21a60547-b4fc-4acc-a9c9-82d456b0bbe5",
   "metadata": {},
   "outputs": [
    {
     "data": {
      "text/plain": [
       "array([ 1,  3, 24,  2,  5,  6,  7,  8,  9, 11, 12, 13])"
      ]
     },
     "execution_count": 41,
     "metadata": {},
     "output_type": "execute_result"
    }
   ],
   "source": [
    "flat"
   ]
  },
  {
   "cell_type": "code",
   "execution_count": 42,
   "id": "ce6be5e6-83d3-4c83-9291-49a565b33770",
   "metadata": {},
   "outputs": [
    {
     "data": {
      "text/plain": [
       "array([2, 6, 8])"
      ]
     },
     "execution_count": 42,
     "metadata": {},
     "output_type": "execute_result"
    }
   ],
   "source": [
    "flat[[3,5,7]]"
   ]
  },
  {
   "cell_type": "code",
   "execution_count": 43,
   "id": "25f7ae3c-bd0b-4d9f-ac5e-176f04651d5c",
   "metadata": {},
   "outputs": [],
   "source": [
    "arr = [arr > 10]"
   ]
  },
  {
   "cell_type": "code",
   "execution_count": 44,
   "id": "0bf65f6e-375f-49c8-a8f6-0d0f76a3d6ea",
   "metadata": {},
   "outputs": [
    {
     "data": {
      "text/plain": [
       "[array([[False, False, False],\n",
       "        [False, False, False],\n",
       "        [False, False, False],\n",
       "        [ True,  True,  True]])]"
      ]
     },
     "execution_count": 44,
     "metadata": {},
     "output_type": "execute_result"
    }
   ],
   "source": [
    "arr"
   ]
  },
  {
   "cell_type": "code",
   "execution_count": 45,
   "id": "f5bd4bac-fff5-49ad-9887-4a606c5bbf0b",
   "metadata": {},
   "outputs": [
    {
     "data": {
      "text/plain": [
       "[array([[False, False, False],\n",
       "        [False, False, False],\n",
       "        [False, False, False],\n",
       "        [ True,  True,  True]])]"
      ]
     },
     "execution_count": 45,
     "metadata": {},
     "output_type": "execute_result"
    }
   ],
   "source": [
    "arr"
   ]
  },
  {
   "cell_type": "code",
   "execution_count": 46,
   "id": "8bf9c89f-f414-49e0-9a94-25e05bab5c2c",
   "metadata": {},
   "outputs": [
    {
     "data": {
      "text/plain": [
       "array([ 1,  3, 24,  2,  5,  6,  7,  8,  9, 11, 12, 13])"
      ]
     },
     "execution_count": 46,
     "metadata": {},
     "output_type": "execute_result"
    }
   ],
   "source": [
    "flat"
   ]
  },
  {
   "cell_type": "code",
   "execution_count": 47,
   "id": "7a8abd3b-f7ec-48dc-9689-73929cf8e140",
   "metadata": {},
   "outputs": [
    {
     "data": {
      "text/plain": [
       "array([24, 11, 12, 13])"
      ]
     },
     "execution_count": 47,
     "metadata": {},
     "output_type": "execute_result"
    }
   ],
   "source": [
    "flat[flat > 10]"
   ]
  },
  {
   "cell_type": "code",
   "execution_count": 48,
   "id": "9ea5b7ab-9640-474e-9c73-eac79c3fd75b",
   "metadata": {},
   "outputs": [
    {
     "data": {
      "text/plain": [
       "array([24, 12, 13])"
      ]
     },
     "execution_count": 48,
     "metadata": {},
     "output_type": "execute_result"
    }
   ],
   "source": [
    "flat[flat > 11]"
   ]
  },
  {
   "cell_type": "code",
   "execution_count": null,
   "id": "512afbce-580f-4b94-be9b-8b7caaad06d6",
   "metadata": {},
   "outputs": [],
   "source": []
  }
 ],
 "metadata": {
  "kernelspec": {
   "display_name": "Python 3 (ipykernel)",
   "language": "python",
   "name": "python3"
  },
  "language_info": {
   "codemirror_mode": {
    "name": "ipython",
    "version": 3
   },
   "file_extension": ".py",
   "mimetype": "text/x-python",
   "name": "python",
   "nbconvert_exporter": "python",
   "pygments_lexer": "ipython3",
   "version": "3.12.7"
  }
 },
 "nbformat": 4,
 "nbformat_minor": 5
}
