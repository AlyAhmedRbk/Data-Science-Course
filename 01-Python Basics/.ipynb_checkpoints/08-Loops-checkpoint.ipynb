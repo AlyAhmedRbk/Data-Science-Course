{
 "cells": [
  {
   "cell_type": "markdown",
   "id": "1038523f-8efd-4bc4-8ee3-f6d59811e465",
   "metadata": {},
   "source": [
    "# Loops in python"
   ]
  },
  {
   "cell_type": "code",
   "execution_count": 1,
   "id": "c6c6320f-eff4-483f-8446-d9f019678ad9",
   "metadata": {},
   "outputs": [
    {
     "name": "stdout",
     "output_type": "stream",
     "text": [
      "1\n",
      "2\n",
      "3\n",
      "4\n",
      "5\n",
      "6\n",
      "7\n",
      "8\n",
      "9\n",
      "10\n"
     ]
    }
   ],
   "source": [
    "arr = [1,2,3,4,5,6,7,8,9,10]\n",
    "\n",
    "for item in arr:\n",
    "    print(item)"
   ]
  },
  {
   "cell_type": "code",
   "execution_count": 2,
   "id": "07bb0a87-9bc4-469a-a024-4d12425eae9e",
   "metadata": {},
   "outputs": [
    {
     "name": "stdout",
     "output_type": "stream",
     "text": [
      "The Number 1 is Odd Number\n",
      "The Number 2 is Even Number\n",
      "The Number 3 is Odd Number\n",
      "The Number 4 is Even Number\n",
      "The Number 5 is Odd Number\n",
      "The Number 6 is Even Number\n",
      "The Number 7 is Odd Number\n",
      "The Number 8 is Even Number\n",
      "The Number 9 is Odd Number\n",
      "The Number 10 is Even Number\n"
     ]
    }
   ],
   "source": [
    "arr = [1,2,3,4,5,6,7,8,9,10]\n",
    "\n",
    "for item in arr:\n",
    "    if (item % 2 == 0):\n",
    "        print(f'The Number {item} is Even Number')\n",
    "    else:\n",
    "        print(f'The Number {item} is Odd Number')"
   ]
  },
  {
   "cell_type": "code",
   "execution_count": 3,
   "id": "768b438c-0034-4d82-91e6-749ddf600084",
   "metadata": {},
   "outputs": [
    {
     "name": "stdout",
     "output_type": "stream",
     "text": [
      "22\n",
      "25\n",
      "26\n",
      "30\n",
      "45\n",
      "49\n"
     ]
    }
   ],
   "source": [
    "marks = [22, 25, 26, 30, 45, 49]\n",
    "\n",
    "for mark in marks:\n",
    "    print(mark)"
   ]
  },
  {
   "cell_type": "code",
   "execution_count": 4,
   "id": "1ba63c17-36d1-4439-b9b6-20d1990b1a11",
   "metadata": {},
   "outputs": [
    {
     "name": "stdout",
     "output_type": "stream",
     "text": [
      "0\n",
      "1\n",
      "2\n",
      "3\n",
      "4\n",
      "5\n",
      "6\n",
      "7\n",
      "8\n",
      "9\n"
     ]
    }
   ],
   "source": [
    "for i in range(10):\n",
    "    print(i)"
   ]
  },
  {
   "cell_type": "code",
   "execution_count": 16,
   "id": "fa995205-d4fa-4208-a581-4d1188623f06",
   "metadata": {},
   "outputs": [],
   "source": [
    "fruits = ['Apple', 'Banana', 'Pine Apple', 'Watermalon'];"
   ]
  },
  {
   "cell_type": "code",
   "execution_count": 18,
   "id": "3f96f169-aa09-4ed2-ba0b-13a6eac2218e",
   "metadata": {},
   "outputs": [
    {
     "name": "stdout",
     "output_type": "stream",
     "text": [
      "Apple\n",
      "Banana\n",
      "Pine Apple\n",
      "Watermalon\n"
     ]
    }
   ],
   "source": [
    "for fruit in fruits:\n",
    "    print(fruit)"
   ]
  },
  {
   "cell_type": "code",
   "execution_count": 26,
   "id": "42ec4efc-dbd2-4c7c-a39b-75d2d5fb92ba",
   "metadata": {},
   "outputs": [
    {
     "ename": "TypeError",
     "evalue": "'str' object is not callable",
     "output_type": "error",
     "traceback": [
      "\u001b[0;31m---------------------------------------------------------------------------\u001b[0m",
      "\u001b[0;31mTypeError\u001b[0m                                 Traceback (most recent call last)",
      "Cell \u001b[0;32mIn[26], line 5\u001b[0m\n\u001b[1;32m      3\u001b[0m     \u001b[38;5;28mprint\u001b[39m(\u001b[38;5;124mf\u001b[39m\u001b[38;5;124m\"\u001b[39m\u001b[38;5;124mFriut \u001b[39m\u001b[38;5;132;01m{\u001b[39;00mfruit\u001b[38;5;132;01m}\u001b[39;00m\u001b[38;5;124m found a\u001b[39m\u001b[38;5;124m\"\u001b[39m)\n\u001b[1;32m      4\u001b[0m     \u001b[38;5;28;01mbreak\u001b[39;00m\n\u001b[0;32m----> 5\u001b[0m \u001b[38;5;28mprint\u001b[39m(fruit)\n",
      "\u001b[0;31mTypeError\u001b[0m: 'str' object is not callable"
     ]
    }
   ],
   "source": [
    "for fruit in fruits:\n",
    "    if fruit == 'Banana':\n",
    "        print(fruit)\n",
    "        break\n",
    "    print(fruit)        \n",
    "    "
   ]
  },
  {
   "cell_type": "markdown",
   "id": "311c41a8-44f2-4ce5-9bf8-005228843f9b",
   "metadata": {},
   "source": [
    "## While Loop\n"
   ]
  },
  {
   "cell_type": "code",
   "execution_count": 15,
   "id": "1e16c28c-0e90-4832-acd9-0fdd28564871",
   "metadata": {},
   "outputs": [
    {
     "name": "stdout",
     "output_type": "stream",
     "text": [
      "0\n",
      "1\n",
      "2\n",
      "3\n",
      "4\n",
      "5\n"
     ]
    }
   ],
   "source": [
    "count = 0\n",
    "\n",
    "while count <= 5 :\n",
    "    print(count)\n",
    "    count += 1"
   ]
  },
  {
   "cell_type": "code",
   "execution_count": null,
   "id": "a2f726f5-e61c-4258-9ae8-e367204fc10c",
   "metadata": {},
   "outputs": [],
   "source": []
  }
 ],
 "metadata": {
  "kernelspec": {
   "display_name": "Python 3 (ipykernel)",
   "language": "python",
   "name": "python3"
  },
  "language_info": {
   "codemirror_mode": {
    "name": "ipython",
    "version": 3
   },
   "file_extension": ".py",
   "mimetype": "text/x-python",
   "name": "python",
   "nbconvert_exporter": "python",
   "pygments_lexer": "ipython3",
   "version": "3.12.7"
  }
 },
 "nbformat": 4,
 "nbformat_minor": 5
}
