{
 "cells": [
  {
   "cell_type": "code",
   "execution_count": 1,
   "id": "867edb1a-cb7a-492e-87f6-1ba5dbfc3d0c",
   "metadata": {},
   "outputs": [
    {
     "name": "stdout",
     "output_type": "stream",
     "text": [
      "Hello World!\n"
     ]
    }
   ],
   "source": [
    "print('Hello World!')"
   ]
  },
  {
   "cell_type": "code",
   "execution_count": 5,
   "id": "563b40d1-dcf6-4b45-a9f9-e3cab51ab419",
   "metadata": {},
   "outputs": [],
   "source": [
    "a = 24"
   ]
  },
  {
   "cell_type": "code",
   "execution_count": 7,
   "id": "a61b4faa-b7f9-47f9-9569-51c39d9d840c",
   "metadata": {},
   "outputs": [],
   "source": [
    "b = 6"
   ]
  },
  {
   "cell_type": "code",
   "execution_count": 8,
   "id": "ab1f0733-1a35-49af-95cc-be5312b496c1",
   "metadata": {},
   "outputs": [
    {
     "data": {
      "text/plain": [
       "30"
      ]
     },
     "execution_count": 8,
     "metadata": {},
     "output_type": "execute_result"
    }
   ],
   "source": [
    "a+b"
   ]
  },
  {
   "cell_type": "code",
   "execution_count": 1,
   "id": "ee187108-667f-4220-b0bb-f9e8fabdfc2e",
   "metadata": {},
   "outputs": [],
   "source": [
    " name='Ali Ahmed'"
   ]
  },
  {
   "cell_type": "code",
   "execution_count": 2,
   "id": "3f427bb0-376b-4c3c-a572-89b4ec16959c",
   "metadata": {},
   "outputs": [
    {
     "name": "stdout",
     "output_type": "stream",
     "text": [
      "Ali Ahmed\n"
     ]
    }
   ],
   "source": [
    "print(name)"
   ]
  },
  {
   "cell_type": "code",
   "execution_count": 3,
   "id": "1e880895-bc3e-45a9-bedf-30a696942f09",
   "metadata": {},
   "outputs": [
    {
     "data": {
      "text/plain": [
       "'ALI AHMED'"
      ]
     },
     "execution_count": 3,
     "metadata": {},
     "output_type": "execute_result"
    }
   ],
   "source": [
    "name.upper()"
   ]
  },
  {
   "cell_type": "code",
   "execution_count": 4,
   "id": "ea376936-788b-4683-92ca-c709049ad9d1",
   "metadata": {},
   "outputs": [
    {
     "data": {
      "text/plain": [
       "True"
      ]
     },
     "execution_count": 4,
     "metadata": {},
     "output_type": "execute_result"
    }
   ],
   "source": [
    "name.endswith('ed')"
   ]
  },
  {
   "cell_type": "code",
   "execution_count": 5,
   "id": "e5df0d8e-6889-413e-9c3e-e290d15a770c",
   "metadata": {},
   "outputs": [
    {
     "data": {
      "text/plain": [
       "'ali ahmed'"
      ]
     },
     "execution_count": 5,
     "metadata": {},
     "output_type": "execute_result"
    }
   ],
   "source": [
    "name.lower()"
   ]
  },
  {
   "cell_type": "code",
   "execution_count": 7,
   "id": "09368630-c3e9-44ce-8939-b7041296f7ce",
   "metadata": {},
   "outputs": [
    {
     "data": {
      "text/plain": [
       "2"
      ]
     },
     "execution_count": 7,
     "metadata": {},
     "output_type": "execute_result"
    }
   ],
   "source": [
    "name.count('A')"
   ]
  },
  {
   "cell_type": "code",
   "execution_count": 8,
   "id": "085b24c1-3a40-4070-b368-fa54306cd104",
   "metadata": {},
   "outputs": [
    {
     "data": {
      "text/plain": [
       "2"
      ]
     },
     "execution_count": 8,
     "metadata": {},
     "output_type": "execute_result"
    }
   ],
   "source": [
    "name.lower().count('a')"
   ]
  },
  {
   "cell_type": "code",
   "execution_count": 9,
   "id": "d45f1874-9599-4e0e-93d2-00612a14b43d",
   "metadata": {},
   "outputs": [
    {
     "data": {
      "text/plain": [
       "1"
      ]
     },
     "execution_count": 9,
     "metadata": {},
     "output_type": "execute_result"
    }
   ],
   "source": [
    "name.count(' ')"
   ]
  },
  {
   "cell_type": "code",
   "execution_count": 10,
   "id": "bc234857-322e-4e14-ab7a-9dba37647af0",
   "metadata": {},
   "outputs": [
    {
     "data": {
      "text/plain": [
       "9"
      ]
     },
     "execution_count": 10,
     "metadata": {},
     "output_type": "execute_result"
    }
   ],
   "source": [
    "len(name)"
   ]
  },
  {
   "cell_type": "code",
   "execution_count": 11,
   "id": "52ffde70-b093-4036-83bb-f4677c38d304",
   "metadata": {},
   "outputs": [],
   "source": [
    "s = '      Hello    World  '"
   ]
  },
  {
   "cell_type": "code",
   "execution_count": 12,
   "id": "305cd24c-aaa5-4919-ab54-b1f20209a8cf",
   "metadata": {},
   "outputs": [
    {
     "data": {
      "text/plain": [
       "'      Hello    World  '"
      ]
     },
     "execution_count": 12,
     "metadata": {},
     "output_type": "execute_result"
    }
   ],
   "source": [
    "s"
   ]
  },
  {
   "cell_type": "code",
   "execution_count": 13,
   "id": "53525370-f2d4-40ca-a0cf-4c1ffe166ff9",
   "metadata": {},
   "outputs": [
    {
     "data": {
      "text/plain": [
       "'Hello    World'"
      ]
     },
     "execution_count": 13,
     "metadata": {},
     "output_type": "execute_result"
    }
   ],
   "source": [
    "s.strip()"
   ]
  },
  {
   "cell_type": "code",
   "execution_count": 14,
   "id": "db23a393-0f5d-4751-8bd1-471f41c3a575",
   "metadata": {},
   "outputs": [
    {
     "data": {
      "text/plain": [
       "'      Hello    Python  '"
      ]
     },
     "execution_count": 14,
     "metadata": {},
     "output_type": "execute_result"
    }
   ],
   "source": [
    "s.replace('World', \"Python\")"
   ]
  },
  {
   "cell_type": "code",
   "execution_count": 15,
   "id": "f6eefd9f-5036-4f22-8c41-97f36bfef411",
   "metadata": {},
   "outputs": [
    {
     "data": {
      "text/plain": [
       "'Hello    Python'"
      ]
     },
     "execution_count": 15,
     "metadata": {},
     "output_type": "execute_result"
    }
   ],
   "source": [
    "s.replace('World', \"Python\").strip()"
   ]
  },
  {
   "cell_type": "code",
   "execution_count": 17,
   "id": "ea5a5d57-4524-49ef-9cc7-6345637c0543",
   "metadata": {},
   "outputs": [
    {
     "data": {
      "text/plain": [
       "'Hello'"
      ]
     },
     "execution_count": 17,
     "metadata": {},
     "output_type": "execute_result"
    }
   ],
   "source": [
    "s.strip()[0:5]"
   ]
  },
  {
   "cell_type": "code",
   "execution_count": 18,
   "id": "17bfa668-a541-4fbb-8b1b-3fddb3536b7f",
   "metadata": {},
   "outputs": [
    {
     "data": {
      "text/plain": [
       "'ello    Worl'"
      ]
     },
     "execution_count": 18,
     "metadata": {},
     "output_type": "execute_result"
    }
   ],
   "source": [
    "s.strip()[1:-1]"
   ]
  },
  {
   "cell_type": "code",
   "execution_count": null,
   "id": "e4539412-c12f-4e1a-a6f6-9e18b3555d56",
   "metadata": {},
   "outputs": [],
   "source": []
  }
 ],
 "metadata": {
  "kernelspec": {
   "display_name": "Python 3 (ipykernel)",
   "language": "python",
   "name": "python3"
  },
  "language_info": {
   "codemirror_mode": {
    "name": "ipython",
    "version": 3
   },
   "file_extension": ".py",
   "mimetype": "text/x-python",
   "name": "python",
   "nbconvert_exporter": "python",
   "pygments_lexer": "ipython3",
   "version": "3.12.7"
  }
 },
 "nbformat": 4,
 "nbformat_minor": 5
}
