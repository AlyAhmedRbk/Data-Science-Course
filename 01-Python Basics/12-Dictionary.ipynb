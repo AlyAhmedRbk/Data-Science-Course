{
 "cells": [
  {
   "cell_type": "markdown",
   "id": "282acad7-b05a-4398-b1a3-c4ce8ed89732",
   "metadata": {},
   "source": [
    "# Dictionary And Dictionary Methods in python\n",
    "\n",
    "A dictionary is an unordered, mutable and key-value pair collection. It allows efficient data retieval and modification"
   ]
  },
  {
   "cell_type": "code",
   "execution_count": 1,
   "id": "162b62d9-f1b3-48b9-8451-cf17b6fb3556",
   "metadata": {},
   "outputs": [],
   "source": [
    "empty_dict = {}"
   ]
  },
  {
   "cell_type": "code",
   "execution_count": 2,
   "id": "c1a02a38-3c3d-42a6-8e14-d20b691b9ed6",
   "metadata": {},
   "outputs": [
    {
     "data": {
      "text/plain": [
       "{}"
      ]
     },
     "execution_count": 2,
     "metadata": {},
     "output_type": "execute_result"
    }
   ],
   "source": [
    "empty_dict"
   ]
  },
  {
   "cell_type": "code",
   "execution_count": 3,
   "id": "73f87d60-da28-4412-b4ac-d886622f1c19",
   "metadata": {},
   "outputs": [],
   "source": [
    "student = {\n",
    "    \"name\" : \"Ali Ahmed\",\n",
    "    \"age\" : 25,\n",
    "    \"grade\" : \"A+\"\n",
    "}"
   ]
  },
  {
   "cell_type": "code",
   "execution_count": 4,
   "id": "e6334488-7c90-422a-bd81-55f0d9d102c0",
   "metadata": {},
   "outputs": [
    {
     "data": {
      "text/plain": [
       "{'name': 'Ali Ahmed', 'age': 25, 'grade': 'A+'}"
      ]
     },
     "execution_count": 4,
     "metadata": {},
     "output_type": "execute_result"
    }
   ],
   "source": [
    "student"
   ]
  },
  {
   "cell_type": "code",
   "execution_count": 5,
   "id": "b3118060-5bb2-48dd-80f9-b582eb78877d",
   "metadata": {},
   "outputs": [
    {
     "data": {
      "text/plain": [
       "dict"
      ]
     },
     "execution_count": 5,
     "metadata": {},
     "output_type": "execute_result"
    }
   ],
   "source": [
    "type(student)"
   ]
  },
  {
   "cell_type": "code",
   "execution_count": 6,
   "id": "f33a799f-2c02-4610-8b4d-92c66333f426",
   "metadata": {},
   "outputs": [
    {
     "data": {
      "text/plain": [
       "'Ali Ahmed'"
      ]
     },
     "execution_count": 6,
     "metadata": {},
     "output_type": "execute_result"
    }
   ],
   "source": [
    "student['name']"
   ]
  },
  {
   "cell_type": "code",
   "execution_count": 7,
   "id": "28633848-56ad-4f80-8456-12ce0a01d25c",
   "metadata": {},
   "outputs": [
    {
     "data": {
      "text/plain": [
       "25"
      ]
     },
     "execution_count": 7,
     "metadata": {},
     "output_type": "execute_result"
    }
   ],
   "source": [
    "student['age']"
   ]
  },
  {
   "cell_type": "code",
   "execution_count": 10,
   "id": "89994719-f0d8-40d1-a3b3-c22460fb786f",
   "metadata": {},
   "outputs": [
    {
     "name": "stdout",
     "output_type": "stream",
     "text": [
      "name : Ali Ahmed\n",
      "age : 25\n",
      "grade : A+\n"
     ]
    }
   ],
   "source": [
    "for std in student:\n",
    "    print(f\"{std} : {student[std]}\")"
   ]
  },
  {
   "cell_type": "code",
   "execution_count": 12,
   "id": "1d5e74ed-7144-4202-8aac-442d511019d7",
   "metadata": {},
   "outputs": [
    {
     "name": "stdout",
     "output_type": "stream",
     "text": [
      "Found student  : Ali Ahmed\n"
     ]
    }
   ],
   "source": [
    "for std in student:\n",
    "    if student[std] == 'Ali Ahmed':\n",
    "        print(f'Found student  : {student[std]}' )\n",
    "        break;"
   ]
  },
  {
   "cell_type": "code",
   "execution_count": 13,
   "id": "c3a19351-38d8-4e0f-8ed1-5118e4273d7e",
   "metadata": {},
   "outputs": [
    {
     "data": {
      "text/plain": [
       "dict_keys(['name', 'age', 'grade'])"
      ]
     },
     "execution_count": 13,
     "metadata": {},
     "output_type": "execute_result"
    }
   ],
   "source": [
    "student.keys()"
   ]
  },
  {
   "cell_type": "code",
   "execution_count": 14,
   "id": "9b2f6c95-42a3-40fd-b8ed-cdf0285b3be3",
   "metadata": {},
   "outputs": [
    {
     "data": {
      "text/plain": [
       "dict_values(['Ali Ahmed', 25, 'A+'])"
      ]
     },
     "execution_count": 14,
     "metadata": {},
     "output_type": "execute_result"
    }
   ],
   "source": [
    "student.values()"
   ]
  },
  {
   "cell_type": "code",
   "execution_count": 15,
   "id": "457d1404-9902-4634-ae3a-a350ecd9da60",
   "metadata": {},
   "outputs": [
    {
     "data": {
      "text/plain": [
       "dict_items([('name', 'Ali Ahmed'), ('age', 25), ('grade', 'A+')])"
      ]
     },
     "execution_count": 15,
     "metadata": {},
     "output_type": "execute_result"
    }
   ],
   "source": [
    "student.items()"
   ]
  },
  {
   "cell_type": "code",
   "execution_count": 16,
   "id": "8e551707-74f5-43bc-b28c-d65a436ce424",
   "metadata": {},
   "outputs": [],
   "source": [
    "student.update({'name' : 'Aliyan'})"
   ]
  },
  {
   "cell_type": "code",
   "execution_count": 17,
   "id": "77b511f8-644c-4372-bf0b-56fa975d813b",
   "metadata": {},
   "outputs": [
    {
     "data": {
      "text/plain": [
       "{'name': 'Aliyan', 'age': 25, 'grade': 'A+'}"
      ]
     },
     "execution_count": 17,
     "metadata": {},
     "output_type": "execute_result"
    }
   ],
   "source": [
    "student"
   ]
  },
  {
   "cell_type": "code",
   "execution_count": 18,
   "id": "5ba6c43d-7a62-40c1-bf7f-f21bce190e49",
   "metadata": {},
   "outputs": [],
   "source": [
    "student.update({'gender' : 'Male'})"
   ]
  },
  {
   "cell_type": "code",
   "execution_count": 19,
   "id": "fa2ecb15-e1e4-47c2-bff9-9718ec071f71",
   "metadata": {},
   "outputs": [
    {
     "data": {
      "text/plain": [
       "{'name': 'Aliyan', 'age': 25, 'grade': 'A+', 'gender': 'Male'}"
      ]
     },
     "execution_count": 19,
     "metadata": {},
     "output_type": "execute_result"
    }
   ],
   "source": [
    "student"
   ]
  },
  {
   "cell_type": "code",
   "execution_count": null,
   "id": "8621a462-4642-4be4-90bf-493c55efcda7",
   "metadata": {},
   "outputs": [],
   "source": []
  },
  {
   "cell_type": "code",
   "execution_count": null,
   "id": "f89425e6-33e6-4896-9301-80b6d8f6b2de",
   "metadata": {},
   "outputs": [],
   "source": []
  }
 ],
 "metadata": {
  "kernelspec": {
   "display_name": "Python 3 (ipykernel)",
   "language": "python",
   "name": "python3"
  },
  "language_info": {
   "codemirror_mode": {
    "name": "ipython",
    "version": 3
   },
   "file_extension": ".py",
   "mimetype": "text/x-python",
   "name": "python",
   "nbconvert_exporter": "python",
   "pygments_lexer": "ipython3",
   "version": "3.12.7"
  }
 },
 "nbformat": 4,
 "nbformat_minor": 5
}
