{
 "cells": [
  {
   "cell_type": "markdown",
   "id": "33547e26-1618-4e53-9b2a-4dd35369cad7",
   "metadata": {},
   "source": [
    "# Conditional Loop in Python"
   ]
  },
  {
   "cell_type": "code",
   "execution_count": 12,
   "id": "07ae74b1-6d94-4bf0-8fc8-29e2669c0e65",
   "metadata": {},
   "outputs": [
    {
     "name": "stdout",
     "output_type": "stream",
     "text": [
      "X is Greater Than 10\n"
     ]
    }
   ],
   "source": [
    "\n",
    "x = 12\n",
    "\n",
    "if x > 10:\n",
    "    print('X is Greater Than 10')"
   ]
  },
  {
   "cell_type": "code",
   "execution_count": 5,
   "id": "2b1d09e1-afca-4d94-b5b7-d4ed32104a7d",
   "metadata": {},
   "outputs": [
    {
     "name": "stdout",
     "output_type": "stream",
     "text": [
      "X is equal to 10\n"
     ]
    }
   ],
   "source": [
    "x = 10\n",
    "\n",
    "if x > 10:\n",
    "    print('X is Greater Than 10')\n",
    "elif x == 10:\n",
    "    print('X is equal to 10')\n",
    "else:\n",
    "    print('X is Less than 10')"
   ]
  },
  {
   "cell_type": "code",
   "execution_count": 6,
   "id": "3cec2af9-5001-4b1b-94f1-d686d2be2edd",
   "metadata": {},
   "outputs": [
    {
     "name": "stdout",
     "output_type": "stream",
     "text": [
      "X is Less than 10\n"
     ]
    }
   ],
   "source": [
    "x = 1\n",
    "\n",
    "if x > 10:\n",
    "    print('X is Greater Than 10')\n",
    "elif x == 10:\n",
    "    print('X is equal to 10')\n",
    "else:\n",
    "    print('X is Less than 10')"
   ]
  },
  {
   "cell_type": "code",
   "execution_count": 11,
   "id": "942fbbd2-ba5d-46a7-9e54-c7aebcc20604",
   "metadata": {},
   "outputs": [
    {
     "name": "stdin",
     "output_type": "stream",
     "text": [
      "Enter User Age : 18\n"
     ]
    },
    {
     "name": "stdout",
     "output_type": "stream",
     "text": [
      "User is eligible for the driving licence\n"
     ]
    }
   ],
   "source": [
    "age = int(input('Enter User Age :'))\n",
    "\n",
    "if(age >=18):\n",
    "    print('User is eligible for the driving licence')\n",
    "else:\n",
    "    print('User is not eligible for the driving licence')"
   ]
  },
  {
   "cell_type": "markdown",
   "id": "e4e9b944-9445-41cd-b62b-c9852dab6991",
   "metadata": {},
   "source": [
    "# Functions In Python"
   ]
  },
  {
   "cell_type": "code",
   "execution_count": 13,
   "id": "ca89d925-7985-4a1a-ac0f-464692437b30",
   "metadata": {},
   "outputs": [],
   "source": [
    "def avg(a, b):\n",
    "    return (a + b)/2"
   ]
  },
  {
   "cell_type": "code",
   "execution_count": 14,
   "id": "763449d4-e907-45cd-9d09-b392a0d05688",
   "metadata": {},
   "outputs": [
    {
     "data": {
      "text/plain": [
       "5.0"
      ]
     },
     "execution_count": 14,
     "metadata": {},
     "output_type": "execute_result"
    }
   ],
   "source": [
    "avg(4,6)"
   ]
  },
  {
   "cell_type": "code",
   "execution_count": 15,
   "id": "eaa42d12-adf0-400a-a018-ef7aae14a524",
   "metadata": {},
   "outputs": [],
   "source": [
    "def sum(a, b=5):\n",
    "    return  a + b\n"
   ]
  },
  {
   "cell_type": "code",
   "execution_count": 16,
   "id": "a2223ac2-29e2-41f2-b58b-4774a4a2f1c4",
   "metadata": {},
   "outputs": [
    {
     "data": {
      "text/plain": [
       "11"
      ]
     },
     "execution_count": 16,
     "metadata": {},
     "output_type": "execute_result"
    }
   ],
   "source": [
    "sum(5, 6)"
   ]
  },
  {
   "cell_type": "code",
   "execution_count": 17,
   "id": "f91c828c-4a12-43f5-b4b0-bac5100bb5bf",
   "metadata": {},
   "outputs": [
    {
     "data": {
      "text/plain": [
       "9"
      ]
     },
     "execution_count": 17,
     "metadata": {},
     "output_type": "execute_result"
    }
   ],
   "source": [
    "sum(4)"
   ]
  },
  {
   "cell_type": "code",
   "execution_count": 18,
   "id": "9369cc9d-34ea-42ba-9ef3-ae8c5ddafe30",
   "metadata": {},
   "outputs": [],
   "source": [
    "def greet():\n",
    "    print('Hello From Python')"
   ]
  },
  {
   "cell_type": "code",
   "execution_count": 19,
   "id": "594b5cc7-1932-49df-b651-b8fbea2c0eba",
   "metadata": {},
   "outputs": [
    {
     "name": "stdout",
     "output_type": "stream",
     "text": [
      "Hello From Python\n"
     ]
    }
   ],
   "source": [
    "greet()"
   ]
  },
  {
   "cell_type": "code",
   "execution_count": null,
   "id": "1d904fba-3255-413c-8835-7969844b7c0c",
   "metadata": {},
   "outputs": [],
   "source": []
  }
 ],
 "metadata": {
  "kernelspec": {
   "display_name": "Python 3 (ipykernel)",
   "language": "python",
   "name": "python3"
  },
  "language_info": {
   "codemirror_mode": {
    "name": "ipython",
    "version": 3
   },
   "file_extension": ".py",
   "mimetype": "text/x-python",
   "name": "python",
   "nbconvert_exporter": "python",
   "pygments_lexer": "ipython3",
   "version": "3.12.7"
  }
 },
 "nbformat": 4,
 "nbformat_minor": 5
}
