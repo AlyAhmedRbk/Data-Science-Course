{
 "cells": [
  {
   "cell_type": "markdown",
   "id": "73d8d599-b7ca-4c2f-9cbb-5483e773fb5f",
   "metadata": {},
   "source": [
    "# Object Oriented Programming (OOP) in Python\n"
   ]
  },
  {
   "cell_type": "code",
   "execution_count": 10,
   "id": "d23d8c50-98d3-4ee2-84ac-5100f90d6fa9",
   "metadata": {},
   "outputs": [
    {
     "name": "stdout",
     "output_type": "stream",
     "text": [
      "The company is HP\n",
      "Name : Ali\n",
      "Salary : $1000000\n",
      "The Time is now\n"
     ]
    }
   ],
   "source": [
    "class Emplyoee:\n",
    "    company = 'HP'\n",
    "\n",
    "    def __init__(self, name, salary):\n",
    "        self.name = name\n",
    "        self.salary = salary\n",
    "    \n",
    "    def printDetails(self):\n",
    "        print(f'The company is {self.company}')\n",
    "        print(f'Name : {self.name}')\n",
    "        print(f'Salary : ${self.salary}')\n",
    "    \n",
    "    @staticmethod\n",
    "    def printTime():\n",
    "        print(f'The Time is now')\n",
    "\n",
    "e1 = Emplyoee('Ali', 1000000)\n",
    "e1.printDetails()\n",
    "e1.printTime()"
   ]
  },
  {
   "cell_type": "code",
   "execution_count": null,
   "id": "ef7c9daa-f918-4a8e-a0ad-81dc5065cf60",
   "metadata": {},
   "outputs": [],
   "source": []
  }
 ],
 "metadata": {
  "kernelspec": {
   "display_name": "Python 3 (ipykernel)",
   "language": "python",
   "name": "python3"
  },
  "language_info": {
   "codemirror_mode": {
    "name": "ipython",
    "version": 3
   },
   "file_extension": ".py",
   "mimetype": "text/x-python",
   "name": "python",
   "nbconvert_exporter": "python",
   "pygments_lexer": "ipython3",
   "version": "3.12.7"
  }
 },
 "nbformat": 4,
 "nbformat_minor": 5
}
