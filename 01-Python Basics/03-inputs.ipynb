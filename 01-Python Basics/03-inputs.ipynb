{
 "cells": [
  {
   "cell_type": "code",
   "execution_count": 1,
   "id": "4d641d83-5e16-475f-8df1-46cbee632096",
   "metadata": {},
   "outputs": [
    {
     "name": "stdin",
     "output_type": "stream",
     "text": [
      "Enter The Value of a : 24\n"
     ]
    }
   ],
   "source": [
    "a = input('Enter The Value of a :')"
   ]
  },
  {
   "cell_type": "code",
   "execution_count": 2,
   "id": "01a91508-fe07-4b40-9f87-610cf4cf4c33",
   "metadata": {},
   "outputs": [
    {
     "name": "stdout",
     "output_type": "stream",
     "text": [
      "24\n"
     ]
    }
   ],
   "source": [
    "print(a)"
   ]
  },
  {
   "cell_type": "code",
   "execution_count": 4,
   "id": "5c6cb4b4-2d74-4bd1-9dca-4e074f7fb53b",
   "metadata": {},
   "outputs": [
    {
     "name": "stdin",
     "output_type": "stream",
     "text": [
      "Enter The Value Of b : 22\n"
     ]
    }
   ],
   "source": [
    "b = input('Enter The Value Of b :')"
   ]
  },
  {
   "cell_type": "code",
   "execution_count": 5,
   "id": "58c870d6-a349-4931-8290-9dd4159d9473",
   "metadata": {},
   "outputs": [
    {
     "name": "stdout",
     "output_type": "stream",
     "text": [
      "22\n"
     ]
    }
   ],
   "source": [
    "print(b)"
   ]
  },
  {
   "cell_type": "code",
   "execution_count": 6,
   "id": "bc585495-ac0c-4829-a53a-ade10450d190",
   "metadata": {},
   "outputs": [
    {
     "name": "stdout",
     "output_type": "stream",
     "text": [
      "The Sum of a and b is : 2422\n"
     ]
    }
   ],
   "source": [
    "print('The Sum of a and b is :', a + b)"
   ]
  },
  {
   "cell_type": "code",
   "execution_count": 7,
   "id": "8cba327a-8b59-4f35-ae60-7d60fcf31008",
   "metadata": {},
   "outputs": [
    {
     "name": "stdout",
     "output_type": "stream",
     "text": [
      "The Sum of a and b is : 46\n"
     ]
    }
   ],
   "source": [
    "print('The Sum of a and b is :', int(a) + int(b))"
   ]
  },
  {
   "cell_type": "code",
   "execution_count": null,
   "id": "2293def2-14ae-49c7-8d07-614c432e9963",
   "metadata": {},
   "outputs": [],
   "source": []
  }
 ],
 "metadata": {
  "kernelspec": {
   "display_name": "Python 3 (ipykernel)",
   "language": "python",
   "name": "python3"
  },
  "language_info": {
   "codemirror_mode": {
    "name": "ipython",
    "version": 3
   },
   "file_extension": ".py",
   "mimetype": "text/x-python",
   "name": "python",
   "nbconvert_exporter": "python",
   "pygments_lexer": "ipython3",
   "version": "3.12.7"
  }
 },
 "nbformat": 4,
 "nbformat_minor": 5
}
