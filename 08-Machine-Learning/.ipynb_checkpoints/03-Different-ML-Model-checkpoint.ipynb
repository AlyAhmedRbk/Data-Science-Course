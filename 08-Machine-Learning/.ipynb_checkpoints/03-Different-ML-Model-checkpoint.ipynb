{
 "cells": [
  {
   "cell_type": "markdown",
   "id": "05b3ca68-759f-4e2b-a35e-858330305102",
   "metadata": {},
   "source": [
    "# Our First ML model using SKLEARN"
   ]
  },
  {
   "cell_type": "code",
   "execution_count": 8,
   "id": "936729f9-dbd5-4492-bcc1-f50c2cd94683",
   "metadata": {},
   "outputs": [],
   "source": [
    "from sklearn.tree import DecisionTreeClassifier\n",
    "\n",
    "# Step 1 Collect Data \n",
    "\n",
    "# Features [Weight (Grams), color (0 = apple, 1 = orange)]\n",
    "feaures = [\n",
    "    [150, 0],\n",
    "    [170, 0],\n",
    "    [130, 1],\n",
    "    [120, 1],\n",
    "]"
   ]
  },
  {
   "cell_type": "code",
   "execution_count": 9,
   "id": "2fa5e77b-4fd7-4d47-a82d-821d022201d9",
   "metadata": {},
   "outputs": [],
   "source": [
    "labels = ['apple', 'apple', 'orange', 'orange']"
   ]
  },
  {
   "cell_type": "code",
   "execution_count": 10,
   "id": "987faa39-a1c3-4640-8724-e449b156c36f",
   "metadata": {},
   "outputs": [],
   "source": [
    "clf = DecisionTreeClassifier()"
   ]
  },
  {
   "cell_type": "code",
   "execution_count": 11,
   "id": "e0383115-d278-42a2-9d49-10ae031315c9",
   "metadata": {},
   "outputs": [],
   "source": [
    "clf = clf.fit(feaures, labels) # Fits and Trains the data"
   ]
  },
  {
   "cell_type": "code",
   "execution_count": 12,
   "id": "955dd43e-6a49-4313-b9d7-344591d4d46c",
   "metadata": {},
   "outputs": [
    {
     "data": {
      "text/plain": [
       "array(['apple'], dtype='<U6')"
      ]
     },
     "execution_count": 12,
     "metadata": {},
     "output_type": "execute_result"
    }
   ],
   "source": [
    "clf.predict([[180, 0]])"
   ]
  },
  {
   "cell_type": "code",
   "execution_count": 13,
   "id": "f3601f4a-1958-4578-a707-49eae3b3b72c",
   "metadata": {},
   "outputs": [
    {
     "data": {
      "text/plain": [
       "array(['orange'], dtype='<U6')"
      ]
     },
     "execution_count": 13,
     "metadata": {},
     "output_type": "execute_result"
    }
   ],
   "source": [
    "clf.predict([[20, 0]])"
   ]
  },
  {
   "cell_type": "code",
   "execution_count": 14,
   "id": "82edb003-b6bf-45ee-8ad4-947d8bc0f2bf",
   "metadata": {},
   "outputs": [
    {
     "data": {
      "text/plain": [
       "array(['orange'], dtype='<U6')"
      ]
     },
     "execution_count": 14,
     "metadata": {},
     "output_type": "execute_result"
    }
   ],
   "source": [
    "clf.predict([[130, 0]])"
   ]
  },
  {
   "cell_type": "code",
   "execution_count": 15,
   "id": "1fa031ef-97b5-4057-856c-4493fb299250",
   "metadata": {},
   "outputs": [
    {
     "data": {
      "text/plain": [
       "array(['apple'], dtype='<U6')"
      ]
     },
     "execution_count": 15,
     "metadata": {},
     "output_type": "execute_result"
    }
   ],
   "source": [
    "clf.predict([[170, 1]])"
   ]
  },
  {
   "cell_type": "code",
   "execution_count": 18,
   "id": "6ebc298a-ea2f-48b0-af89-f08515f3cc0a",
   "metadata": {},
   "outputs": [],
   "source": [
    "predection = clf.predict([[152, 1]])"
   ]
  },
  {
   "cell_type": "code",
   "execution_count": 19,
   "id": "64ee980e-f466-4875-a768-062b35507711",
   "metadata": {},
   "outputs": [
    {
     "name": "stdout",
     "output_type": "stream",
     "text": [
      "The Fruit is : apple\n"
     ]
    }
   ],
   "source": [
    "print(f'The Fruit is : {predection[0]}')"
   ]
  },
  {
   "cell_type": "code",
   "execution_count": null,
   "id": "2670c8e4-3c1a-4c1c-963f-8037f6045516",
   "metadata": {},
   "outputs": [],
   "source": []
  }
 ],
 "metadata": {
  "kernelspec": {
   "display_name": "Python 3 (ipykernel)",
   "language": "python",
   "name": "python3"
  },
  "language_info": {
   "codemirror_mode": {
    "name": "ipython",
    "version": 3
   },
   "file_extension": ".py",
   "mimetype": "text/x-python",
   "name": "python",
   "nbconvert_exporter": "python",
   "pygments_lexer": "ipython3",
   "version": "3.12.7"
  }
 },
 "nbformat": 4,
 "nbformat_minor": 5
}
